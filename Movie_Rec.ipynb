{
  "cells": [
    {
      "cell_type": "markdown",
      "metadata": {
        "id": "kpIAuMSyKM0H"
      },
      "source": [
        "## Import library"
      ]
    },
    {
      "cell_type": "code",
      "execution_count": 1,
      "metadata": {
        "colab": {
          "base_uri": "https://localhost:8080/"
        },
        "id": "4q02JTCSYpTO",
        "outputId": "296a1cc9-643a-415b-cd2b-65ef20b843a6"
      },
      "outputs": [
        {
          "output_type": "stream",
          "name": "stdout",
          "text": [
            "Requirement already satisfied: pandas in /usr/local/lib/python3.11/dist-packages (2.2.2)\n",
            "Requirement already satisfied: scikit-learn in /usr/local/lib/python3.11/dist-packages (1.6.1)\n",
            "Requirement already satisfied: matplotlib in /usr/local/lib/python3.11/dist-packages (3.10.0)\n",
            "Requirement already satisfied: seaborn in /usr/local/lib/python3.11/dist-packages (0.13.2)\n",
            "Requirement already satisfied: numpy>=1.23.2 in /usr/local/lib/python3.11/dist-packages (from pandas) (2.3.0)\n",
            "Requirement already satisfied: python-dateutil>=2.8.2 in /usr/local/lib/python3.11/dist-packages (from pandas) (2.9.0.post0)\n",
            "Requirement already satisfied: pytz>=2020.1 in /usr/local/lib/python3.11/dist-packages (from pandas) (2025.2)\n",
            "Requirement already satisfied: tzdata>=2022.7 in /usr/local/lib/python3.11/dist-packages (from pandas) (2025.2)\n",
            "Requirement already satisfied: scipy>=1.6.0 in /usr/local/lib/python3.11/dist-packages (from scikit-learn) (1.15.3)\n",
            "Requirement already satisfied: joblib>=1.2.0 in /usr/local/lib/python3.11/dist-packages (from scikit-learn) (1.5.1)\n",
            "Requirement already satisfied: threadpoolctl>=3.1.0 in /usr/local/lib/python3.11/dist-packages (from scikit-learn) (3.6.0)\n",
            "Requirement already satisfied: contourpy>=1.0.1 in /usr/local/lib/python3.11/dist-packages (from matplotlib) (1.3.2)\n",
            "Requirement already satisfied: cycler>=0.10 in /usr/local/lib/python3.11/dist-packages (from matplotlib) (0.12.1)\n",
            "Requirement already satisfied: fonttools>=4.22.0 in /usr/local/lib/python3.11/dist-packages (from matplotlib) (4.58.1)\n",
            "Requirement already satisfied: kiwisolver>=1.3.1 in /usr/local/lib/python3.11/dist-packages (from matplotlib) (1.4.8)\n",
            "Requirement already satisfied: packaging>=20.0 in /usr/local/lib/python3.11/dist-packages (from matplotlib) (24.2)\n",
            "Requirement already satisfied: pillow>=8 in /usr/local/lib/python3.11/dist-packages (from matplotlib) (11.2.1)\n",
            "Requirement already satisfied: pyparsing>=2.3.1 in /usr/local/lib/python3.11/dist-packages (from matplotlib) (3.2.3)\n",
            "Requirement already satisfied: six>=1.5 in /usr/local/lib/python3.11/dist-packages (from python-dateutil>=2.8.2->pandas) (1.17.0)\n"
          ]
        }
      ],
      "source": [
        "!pip install pandas scikit-learn matplotlib seaborn\n",
        "\n",
        "import pandas as pd\n",
        "import numpy as np\n",
        "import matplotlib.pyplot as plt\n",
        "import seaborn as sns\n",
        "\n",
        "sns.set(style='whitegrid')\n",
        "plt.rcParams['figure.figsize'] = (12, 8)"
      ]
    },
    {
      "cell_type": "markdown",
      "metadata": {
        "id": "oBSXzBWwrhdH"
      },
      "source": [
        "## Data loading\n"
      ]
    },
    {
      "cell_type": "markdown",
      "metadata": {
        "id": "975fcBNmGjK4"
      },
      "source": [
        "download latest version of the dataset from kaggle using kagglehub"
      ]
    },
    {
      "cell_type": "code",
      "execution_count": 2,
      "metadata": {
        "colab": {
          "base_uri": "https://localhost:8080/"
        },
        "id": "iJm8s4NxDgWN",
        "outputId": "b769b321-b524-4205-b5e0-a5efc0ed1f7e"
      },
      "outputs": [
        {
          "output_type": "stream",
          "name": "stdout",
          "text": [
            "Path to dataset files: /kaggle/input/movielens-10m-dataset-latest-version\n"
          ]
        }
      ],
      "source": [
        "import kagglehub\n",
        "\n",
        "path = kagglehub.dataset_download(\"amirmotefaker/movielens-10m-dataset-latest-version\")\n",
        "\n",
        "print(\"Path to dataset files:\", path)"
      ]
    },
    {
      "cell_type": "markdown",
      "metadata": {
        "id": "3dcO_xg3rkQD"
      },
      "source": [
        "\n",
        "Load the data from \"movies.csv\" and \"ratings.csv\" into dataframes, starting from adding movies_path and ratings_path\n",
        "\n"
      ]
    },
    {
      "cell_type": "code",
      "execution_count": 3,
      "metadata": {
        "id": "6x9JFBOwrkfy"
      },
      "outputs": [],
      "source": [
        "movies_path = f\"{path}/ml-10M100K/movies.dat\"\n",
        "ratings_path = f\"{path}/ml-10M100K/ratings.dat\""
      ]
    },
    {
      "cell_type": "markdown",
      "metadata": {
        "id": "KN1IJ53jHAIa"
      },
      "source": [
        "Read movies.dat, the file is tab-separated and has three columns: movie_id, title, and genres"
      ]
    },
    {
      "cell_type": "code",
      "execution_count": 4,
      "metadata": {
        "id": "WXF3QylBGVud"
      },
      "outputs": [],
      "source": [
        "movies = pd.read_csv(movies_path, sep='::', engine='python', header=None, names=['movie_id', 'title', 'genres'])"
      ]
    },
    {
      "cell_type": "markdown",
      "metadata": {
        "id": "Lmd_e8JaHP2M"
      },
      "source": [
        "Read ratings.dat, the file is tab-separated and has four columns: user_id, movie_id, rating, and timestamp"
      ]
    },
    {
      "cell_type": "code",
      "execution_count": 5,
      "metadata": {
        "id": "Y-m3mScIGURy"
      },
      "outputs": [],
      "source": [
        "ratings = pd.read_csv(ratings_path, sep='::', engine='python', header=None, names=['user_id', 'movie_id', 'rating', 'timestamp'])"
      ]
    },
    {
      "cell_type": "markdown",
      "metadata": {
        "id": "SnbNdfSYHWTg"
      },
      "source": [
        "Display the head of movies dataframes to verify"
      ]
    },
    {
      "cell_type": "code",
      "execution_count": 6,
      "metadata": {
        "colab": {
          "base_uri": "https://localhost:8080/",
          "height": 224
        },
        "id": "SPVB87jlF7zx",
        "outputId": "33a0a06b-e8b6-432c-8044-8b2713f0c24b"
      },
      "outputs": [
        {
          "output_type": "stream",
          "name": "stdout",
          "text": [
            "Movies DataFrame:\n"
          ]
        },
        {
          "output_type": "execute_result",
          "data": {
            "text/plain": [
              "   movie_id                               title  \\\n",
              "0         1                    Toy Story (1995)   \n",
              "1         2                      Jumanji (1995)   \n",
              "2         3             Grumpier Old Men (1995)   \n",
              "3         4            Waiting to Exhale (1995)   \n",
              "4         5  Father of the Bride Part II (1995)   \n",
              "\n",
              "                                        genres  \n",
              "0  Adventure|Animation|Children|Comedy|Fantasy  \n",
              "1                   Adventure|Children|Fantasy  \n",
              "2                               Comedy|Romance  \n",
              "3                         Comedy|Drama|Romance  \n",
              "4                                       Comedy  "
            ],
            "text/html": [
              "\n",
              "  <div id=\"df-67c56594-4851-4553-8216-b9acb47e4537\" class=\"colab-df-container\">\n",
              "    <div>\n",
              "<style scoped>\n",
              "    .dataframe tbody tr th:only-of-type {\n",
              "        vertical-align: middle;\n",
              "    }\n",
              "\n",
              "    .dataframe tbody tr th {\n",
              "        vertical-align: top;\n",
              "    }\n",
              "\n",
              "    .dataframe thead th {\n",
              "        text-align: right;\n",
              "    }\n",
              "</style>\n",
              "<table border=\"1\" class=\"dataframe\">\n",
              "  <thead>\n",
              "    <tr style=\"text-align: right;\">\n",
              "      <th></th>\n",
              "      <th>movie_id</th>\n",
              "      <th>title</th>\n",
              "      <th>genres</th>\n",
              "    </tr>\n",
              "  </thead>\n",
              "  <tbody>\n",
              "    <tr>\n",
              "      <th>0</th>\n",
              "      <td>1</td>\n",
              "      <td>Toy Story (1995)</td>\n",
              "      <td>Adventure|Animation|Children|Comedy|Fantasy</td>\n",
              "    </tr>\n",
              "    <tr>\n",
              "      <th>1</th>\n",
              "      <td>2</td>\n",
              "      <td>Jumanji (1995)</td>\n",
              "      <td>Adventure|Children|Fantasy</td>\n",
              "    </tr>\n",
              "    <tr>\n",
              "      <th>2</th>\n",
              "      <td>3</td>\n",
              "      <td>Grumpier Old Men (1995)</td>\n",
              "      <td>Comedy|Romance</td>\n",
              "    </tr>\n",
              "    <tr>\n",
              "      <th>3</th>\n",
              "      <td>4</td>\n",
              "      <td>Waiting to Exhale (1995)</td>\n",
              "      <td>Comedy|Drama|Romance</td>\n",
              "    </tr>\n",
              "    <tr>\n",
              "      <th>4</th>\n",
              "      <td>5</td>\n",
              "      <td>Father of the Bride Part II (1995)</td>\n",
              "      <td>Comedy</td>\n",
              "    </tr>\n",
              "  </tbody>\n",
              "</table>\n",
              "</div>\n",
              "    <div class=\"colab-df-buttons\">\n",
              "\n",
              "  <div class=\"colab-df-container\">\n",
              "    <button class=\"colab-df-convert\" onclick=\"convertToInteractive('df-67c56594-4851-4553-8216-b9acb47e4537')\"\n",
              "            title=\"Convert this dataframe to an interactive table.\"\n",
              "            style=\"display:none;\">\n",
              "\n",
              "  <svg xmlns=\"http://www.w3.org/2000/svg\" height=\"24px\" viewBox=\"0 -960 960 960\">\n",
              "    <path d=\"M120-120v-720h720v720H120Zm60-500h600v-160H180v160Zm220 220h160v-160H400v160Zm0 220h160v-160H400v160ZM180-400h160v-160H180v160Zm440 0h160v-160H620v160ZM180-180h160v-160H180v160Zm440 0h160v-160H620v160Z\"/>\n",
              "  </svg>\n",
              "    </button>\n",
              "\n",
              "  <style>\n",
              "    .colab-df-container {\n",
              "      display:flex;\n",
              "      gap: 12px;\n",
              "    }\n",
              "\n",
              "    .colab-df-convert {\n",
              "      background-color: #E8F0FE;\n",
              "      border: none;\n",
              "      border-radius: 50%;\n",
              "      cursor: pointer;\n",
              "      display: none;\n",
              "      fill: #1967D2;\n",
              "      height: 32px;\n",
              "      padding: 0 0 0 0;\n",
              "      width: 32px;\n",
              "    }\n",
              "\n",
              "    .colab-df-convert:hover {\n",
              "      background-color: #E2EBFA;\n",
              "      box-shadow: 0px 1px 2px rgba(60, 64, 67, 0.3), 0px 1px 3px 1px rgba(60, 64, 67, 0.15);\n",
              "      fill: #174EA6;\n",
              "    }\n",
              "\n",
              "    .colab-df-buttons div {\n",
              "      margin-bottom: 4px;\n",
              "    }\n",
              "\n",
              "    [theme=dark] .colab-df-convert {\n",
              "      background-color: #3B4455;\n",
              "      fill: #D2E3FC;\n",
              "    }\n",
              "\n",
              "    [theme=dark] .colab-df-convert:hover {\n",
              "      background-color: #434B5C;\n",
              "      box-shadow: 0px 1px 3px 1px rgba(0, 0, 0, 0.15);\n",
              "      filter: drop-shadow(0px 1px 2px rgba(0, 0, 0, 0.3));\n",
              "      fill: #FFFFFF;\n",
              "    }\n",
              "  </style>\n",
              "\n",
              "    <script>\n",
              "      const buttonEl =\n",
              "        document.querySelector('#df-67c56594-4851-4553-8216-b9acb47e4537 button.colab-df-convert');\n",
              "      buttonEl.style.display =\n",
              "        google.colab.kernel.accessAllowed ? 'block' : 'none';\n",
              "\n",
              "      async function convertToInteractive(key) {\n",
              "        const element = document.querySelector('#df-67c56594-4851-4553-8216-b9acb47e4537');\n",
              "        const dataTable =\n",
              "          await google.colab.kernel.invokeFunction('convertToInteractive',\n",
              "                                                    [key], {});\n",
              "        if (!dataTable) return;\n",
              "\n",
              "        const docLinkHtml = 'Like what you see? Visit the ' +\n",
              "          '<a target=\"_blank\" href=https://colab.research.google.com/notebooks/data_table.ipynb>data table notebook</a>'\n",
              "          + ' to learn more about interactive tables.';\n",
              "        element.innerHTML = '';\n",
              "        dataTable['output_type'] = 'display_data';\n",
              "        await google.colab.output.renderOutput(dataTable, element);\n",
              "        const docLink = document.createElement('div');\n",
              "        docLink.innerHTML = docLinkHtml;\n",
              "        element.appendChild(docLink);\n",
              "      }\n",
              "    </script>\n",
              "  </div>\n",
              "\n",
              "\n",
              "    <div id=\"df-19c28a7b-fc0b-4572-afa9-3dc3bfb36cf9\">\n",
              "      <button class=\"colab-df-quickchart\" onclick=\"quickchart('df-19c28a7b-fc0b-4572-afa9-3dc3bfb36cf9')\"\n",
              "                title=\"Suggest charts\"\n",
              "                style=\"display:none;\">\n",
              "\n",
              "<svg xmlns=\"http://www.w3.org/2000/svg\" height=\"24px\"viewBox=\"0 0 24 24\"\n",
              "     width=\"24px\">\n",
              "    <g>\n",
              "        <path d=\"M19 3H5c-1.1 0-2 .9-2 2v14c0 1.1.9 2 2 2h14c1.1 0 2-.9 2-2V5c0-1.1-.9-2-2-2zM9 17H7v-7h2v7zm4 0h-2V7h2v10zm4 0h-2v-4h2v4z\"/>\n",
              "    </g>\n",
              "</svg>\n",
              "      </button>\n",
              "\n",
              "<style>\n",
              "  .colab-df-quickchart {\n",
              "      --bg-color: #E8F0FE;\n",
              "      --fill-color: #1967D2;\n",
              "      --hover-bg-color: #E2EBFA;\n",
              "      --hover-fill-color: #174EA6;\n",
              "      --disabled-fill-color: #AAA;\n",
              "      --disabled-bg-color: #DDD;\n",
              "  }\n",
              "\n",
              "  [theme=dark] .colab-df-quickchart {\n",
              "      --bg-color: #3B4455;\n",
              "      --fill-color: #D2E3FC;\n",
              "      --hover-bg-color: #434B5C;\n",
              "      --hover-fill-color: #FFFFFF;\n",
              "      --disabled-bg-color: #3B4455;\n",
              "      --disabled-fill-color: #666;\n",
              "  }\n",
              "\n",
              "  .colab-df-quickchart {\n",
              "    background-color: var(--bg-color);\n",
              "    border: none;\n",
              "    border-radius: 50%;\n",
              "    cursor: pointer;\n",
              "    display: none;\n",
              "    fill: var(--fill-color);\n",
              "    height: 32px;\n",
              "    padding: 0;\n",
              "    width: 32px;\n",
              "  }\n",
              "\n",
              "  .colab-df-quickchart:hover {\n",
              "    background-color: var(--hover-bg-color);\n",
              "    box-shadow: 0 1px 2px rgba(60, 64, 67, 0.3), 0 1px 3px 1px rgba(60, 64, 67, 0.15);\n",
              "    fill: var(--button-hover-fill-color);\n",
              "  }\n",
              "\n",
              "  .colab-df-quickchart-complete:disabled,\n",
              "  .colab-df-quickchart-complete:disabled:hover {\n",
              "    background-color: var(--disabled-bg-color);\n",
              "    fill: var(--disabled-fill-color);\n",
              "    box-shadow: none;\n",
              "  }\n",
              "\n",
              "  .colab-df-spinner {\n",
              "    border: 2px solid var(--fill-color);\n",
              "    border-color: transparent;\n",
              "    border-bottom-color: var(--fill-color);\n",
              "    animation:\n",
              "      spin 1s steps(1) infinite;\n",
              "  }\n",
              "\n",
              "  @keyframes spin {\n",
              "    0% {\n",
              "      border-color: transparent;\n",
              "      border-bottom-color: var(--fill-color);\n",
              "      border-left-color: var(--fill-color);\n",
              "    }\n",
              "    20% {\n",
              "      border-color: transparent;\n",
              "      border-left-color: var(--fill-color);\n",
              "      border-top-color: var(--fill-color);\n",
              "    }\n",
              "    30% {\n",
              "      border-color: transparent;\n",
              "      border-left-color: var(--fill-color);\n",
              "      border-top-color: var(--fill-color);\n",
              "      border-right-color: var(--fill-color);\n",
              "    }\n",
              "    40% {\n",
              "      border-color: transparent;\n",
              "      border-right-color: var(--fill-color);\n",
              "      border-top-color: var(--fill-color);\n",
              "    }\n",
              "    60% {\n",
              "      border-color: transparent;\n",
              "      border-right-color: var(--fill-color);\n",
              "    }\n",
              "    80% {\n",
              "      border-color: transparent;\n",
              "      border-right-color: var(--fill-color);\n",
              "      border-bottom-color: var(--fill-color);\n",
              "    }\n",
              "    90% {\n",
              "      border-color: transparent;\n",
              "      border-bottom-color: var(--fill-color);\n",
              "    }\n",
              "  }\n",
              "</style>\n",
              "\n",
              "      <script>\n",
              "        async function quickchart(key) {\n",
              "          const quickchartButtonEl =\n",
              "            document.querySelector('#' + key + ' button');\n",
              "          quickchartButtonEl.disabled = true;  // To prevent multiple clicks.\n",
              "          quickchartButtonEl.classList.add('colab-df-spinner');\n",
              "          try {\n",
              "            const charts = await google.colab.kernel.invokeFunction(\n",
              "                'suggestCharts', [key], {});\n",
              "          } catch (error) {\n",
              "            console.error('Error during call to suggestCharts:', error);\n",
              "          }\n",
              "          quickchartButtonEl.classList.remove('colab-df-spinner');\n",
              "          quickchartButtonEl.classList.add('colab-df-quickchart-complete');\n",
              "        }\n",
              "        (() => {\n",
              "          let quickchartButtonEl =\n",
              "            document.querySelector('#df-19c28a7b-fc0b-4572-afa9-3dc3bfb36cf9 button');\n",
              "          quickchartButtonEl.style.display =\n",
              "            google.colab.kernel.accessAllowed ? 'block' : 'none';\n",
              "        })();\n",
              "      </script>\n",
              "    </div>\n",
              "\n",
              "    </div>\n",
              "  </div>\n"
            ],
            "application/vnd.google.colaboratory.intrinsic+json": {
              "type": "dataframe",
              "variable_name": "movies",
              "summary": "{\n  \"name\": \"movies\",\n  \"rows\": 10681,\n  \"fields\": [\n    {\n      \"column\": \"movie_id\",\n      \"properties\": {\n        \"dtype\": \"number\",\n        \"std\": 17808,\n        \"min\": 1,\n        \"max\": 65133,\n        \"num_unique_values\": 10681,\n        \"samples\": [\n          4924,\n          3862,\n          1574\n        ],\n        \"semantic_type\": \"\",\n        \"description\": \"\"\n      }\n    },\n    {\n      \"column\": \"title\",\n      \"properties\": {\n        \"dtype\": \"string\",\n        \"num_unique_values\": 10680,\n        \"samples\": [\n          \"Before the Devil Knows You're Dead (2007)\",\n          \"Fisher King, The (1991)\",\n          \"Sixty Six (2006)\"\n        ],\n        \"semantic_type\": \"\",\n        \"description\": \"\"\n      }\n    },\n    {\n      \"column\": \"genres\",\n      \"properties\": {\n        \"dtype\": \"category\",\n        \"num_unique_values\": 797,\n        \"samples\": [\n          \"Comedy|Drama|Horror|Sci-Fi|Thriller\",\n          \"Comedy|Drama|Film-Noir\",\n          \"Comedy|Crime|Drama\"\n        ],\n        \"semantic_type\": \"\",\n        \"description\": \"\"\n      }\n    }\n  ]\n}"
            }
          },
          "metadata": {},
          "execution_count": 6
        }
      ],
      "source": [
        "print(\"Movies DataFrame:\")\n",
        "movies.head()"
      ]
    },
    {
      "cell_type": "markdown",
      "metadata": {
        "id": "HJ5inEj4HbCS"
      },
      "source": [
        "Display the head of ratings dataframes to verify"
      ]
    },
    {
      "cell_type": "code",
      "execution_count": 7,
      "metadata": {
        "colab": {
          "base_uri": "https://localhost:8080/",
          "height": 242
        },
        "id": "SkoXm6wWGDVk",
        "outputId": "f014e3ae-2a96-4f22-fa55-f6ee1286d2f5"
      },
      "outputs": [
        {
          "output_type": "stream",
          "name": "stdout",
          "text": [
            "\n",
            "Ratings DataFrame:\n"
          ]
        },
        {
          "output_type": "execute_result",
          "data": {
            "text/plain": [
              "   user_id  movie_id  rating  timestamp\n",
              "0        1       122     5.0  838985046\n",
              "1        1       185     5.0  838983525\n",
              "2        1       231     5.0  838983392\n",
              "3        1       292     5.0  838983421\n",
              "4        1       316     5.0  838983392"
            ],
            "text/html": [
              "\n",
              "  <div id=\"df-88519413-325e-4905-ba73-ad1f29bee19e\" class=\"colab-df-container\">\n",
              "    <div>\n",
              "<style scoped>\n",
              "    .dataframe tbody tr th:only-of-type {\n",
              "        vertical-align: middle;\n",
              "    }\n",
              "\n",
              "    .dataframe tbody tr th {\n",
              "        vertical-align: top;\n",
              "    }\n",
              "\n",
              "    .dataframe thead th {\n",
              "        text-align: right;\n",
              "    }\n",
              "</style>\n",
              "<table border=\"1\" class=\"dataframe\">\n",
              "  <thead>\n",
              "    <tr style=\"text-align: right;\">\n",
              "      <th></th>\n",
              "      <th>user_id</th>\n",
              "      <th>movie_id</th>\n",
              "      <th>rating</th>\n",
              "      <th>timestamp</th>\n",
              "    </tr>\n",
              "  </thead>\n",
              "  <tbody>\n",
              "    <tr>\n",
              "      <th>0</th>\n",
              "      <td>1</td>\n",
              "      <td>122</td>\n",
              "      <td>5.0</td>\n",
              "      <td>838985046</td>\n",
              "    </tr>\n",
              "    <tr>\n",
              "      <th>1</th>\n",
              "      <td>1</td>\n",
              "      <td>185</td>\n",
              "      <td>5.0</td>\n",
              "      <td>838983525</td>\n",
              "    </tr>\n",
              "    <tr>\n",
              "      <th>2</th>\n",
              "      <td>1</td>\n",
              "      <td>231</td>\n",
              "      <td>5.0</td>\n",
              "      <td>838983392</td>\n",
              "    </tr>\n",
              "    <tr>\n",
              "      <th>3</th>\n",
              "      <td>1</td>\n",
              "      <td>292</td>\n",
              "      <td>5.0</td>\n",
              "      <td>838983421</td>\n",
              "    </tr>\n",
              "    <tr>\n",
              "      <th>4</th>\n",
              "      <td>1</td>\n",
              "      <td>316</td>\n",
              "      <td>5.0</td>\n",
              "      <td>838983392</td>\n",
              "    </tr>\n",
              "  </tbody>\n",
              "</table>\n",
              "</div>\n",
              "    <div class=\"colab-df-buttons\">\n",
              "\n",
              "  <div class=\"colab-df-container\">\n",
              "    <button class=\"colab-df-convert\" onclick=\"convertToInteractive('df-88519413-325e-4905-ba73-ad1f29bee19e')\"\n",
              "            title=\"Convert this dataframe to an interactive table.\"\n",
              "            style=\"display:none;\">\n",
              "\n",
              "  <svg xmlns=\"http://www.w3.org/2000/svg\" height=\"24px\" viewBox=\"0 -960 960 960\">\n",
              "    <path d=\"M120-120v-720h720v720H120Zm60-500h600v-160H180v160Zm220 220h160v-160H400v160Zm0 220h160v-160H400v160ZM180-400h160v-160H180v160Zm440 0h160v-160H620v160ZM180-180h160v-160H180v160Zm440 0h160v-160H620v160Z\"/>\n",
              "  </svg>\n",
              "    </button>\n",
              "\n",
              "  <style>\n",
              "    .colab-df-container {\n",
              "      display:flex;\n",
              "      gap: 12px;\n",
              "    }\n",
              "\n",
              "    .colab-df-convert {\n",
              "      background-color: #E8F0FE;\n",
              "      border: none;\n",
              "      border-radius: 50%;\n",
              "      cursor: pointer;\n",
              "      display: none;\n",
              "      fill: #1967D2;\n",
              "      height: 32px;\n",
              "      padding: 0 0 0 0;\n",
              "      width: 32px;\n",
              "    }\n",
              "\n",
              "    .colab-df-convert:hover {\n",
              "      background-color: #E2EBFA;\n",
              "      box-shadow: 0px 1px 2px rgba(60, 64, 67, 0.3), 0px 1px 3px 1px rgba(60, 64, 67, 0.15);\n",
              "      fill: #174EA6;\n",
              "    }\n",
              "\n",
              "    .colab-df-buttons div {\n",
              "      margin-bottom: 4px;\n",
              "    }\n",
              "\n",
              "    [theme=dark] .colab-df-convert {\n",
              "      background-color: #3B4455;\n",
              "      fill: #D2E3FC;\n",
              "    }\n",
              "\n",
              "    [theme=dark] .colab-df-convert:hover {\n",
              "      background-color: #434B5C;\n",
              "      box-shadow: 0px 1px 3px 1px rgba(0, 0, 0, 0.15);\n",
              "      filter: drop-shadow(0px 1px 2px rgba(0, 0, 0, 0.3));\n",
              "      fill: #FFFFFF;\n",
              "    }\n",
              "  </style>\n",
              "\n",
              "    <script>\n",
              "      const buttonEl =\n",
              "        document.querySelector('#df-88519413-325e-4905-ba73-ad1f29bee19e button.colab-df-convert');\n",
              "      buttonEl.style.display =\n",
              "        google.colab.kernel.accessAllowed ? 'block' : 'none';\n",
              "\n",
              "      async function convertToInteractive(key) {\n",
              "        const element = document.querySelector('#df-88519413-325e-4905-ba73-ad1f29bee19e');\n",
              "        const dataTable =\n",
              "          await google.colab.kernel.invokeFunction('convertToInteractive',\n",
              "                                                    [key], {});\n",
              "        if (!dataTable) return;\n",
              "\n",
              "        const docLinkHtml = 'Like what you see? Visit the ' +\n",
              "          '<a target=\"_blank\" href=https://colab.research.google.com/notebooks/data_table.ipynb>data table notebook</a>'\n",
              "          + ' to learn more about interactive tables.';\n",
              "        element.innerHTML = '';\n",
              "        dataTable['output_type'] = 'display_data';\n",
              "        await google.colab.output.renderOutput(dataTable, element);\n",
              "        const docLink = document.createElement('div');\n",
              "        docLink.innerHTML = docLinkHtml;\n",
              "        element.appendChild(docLink);\n",
              "      }\n",
              "    </script>\n",
              "  </div>\n",
              "\n",
              "\n",
              "    <div id=\"df-0aa2f146-7d42-46c2-85ff-406cf475f3bb\">\n",
              "      <button class=\"colab-df-quickchart\" onclick=\"quickchart('df-0aa2f146-7d42-46c2-85ff-406cf475f3bb')\"\n",
              "                title=\"Suggest charts\"\n",
              "                style=\"display:none;\">\n",
              "\n",
              "<svg xmlns=\"http://www.w3.org/2000/svg\" height=\"24px\"viewBox=\"0 0 24 24\"\n",
              "     width=\"24px\">\n",
              "    <g>\n",
              "        <path d=\"M19 3H5c-1.1 0-2 .9-2 2v14c0 1.1.9 2 2 2h14c1.1 0 2-.9 2-2V5c0-1.1-.9-2-2-2zM9 17H7v-7h2v7zm4 0h-2V7h2v10zm4 0h-2v-4h2v4z\"/>\n",
              "    </g>\n",
              "</svg>\n",
              "      </button>\n",
              "\n",
              "<style>\n",
              "  .colab-df-quickchart {\n",
              "      --bg-color: #E8F0FE;\n",
              "      --fill-color: #1967D2;\n",
              "      --hover-bg-color: #E2EBFA;\n",
              "      --hover-fill-color: #174EA6;\n",
              "      --disabled-fill-color: #AAA;\n",
              "      --disabled-bg-color: #DDD;\n",
              "  }\n",
              "\n",
              "  [theme=dark] .colab-df-quickchart {\n",
              "      --bg-color: #3B4455;\n",
              "      --fill-color: #D2E3FC;\n",
              "      --hover-bg-color: #434B5C;\n",
              "      --hover-fill-color: #FFFFFF;\n",
              "      --disabled-bg-color: #3B4455;\n",
              "      --disabled-fill-color: #666;\n",
              "  }\n",
              "\n",
              "  .colab-df-quickchart {\n",
              "    background-color: var(--bg-color);\n",
              "    border: none;\n",
              "    border-radius: 50%;\n",
              "    cursor: pointer;\n",
              "    display: none;\n",
              "    fill: var(--fill-color);\n",
              "    height: 32px;\n",
              "    padding: 0;\n",
              "    width: 32px;\n",
              "  }\n",
              "\n",
              "  .colab-df-quickchart:hover {\n",
              "    background-color: var(--hover-bg-color);\n",
              "    box-shadow: 0 1px 2px rgba(60, 64, 67, 0.3), 0 1px 3px 1px rgba(60, 64, 67, 0.15);\n",
              "    fill: var(--button-hover-fill-color);\n",
              "  }\n",
              "\n",
              "  .colab-df-quickchart-complete:disabled,\n",
              "  .colab-df-quickchart-complete:disabled:hover {\n",
              "    background-color: var(--disabled-bg-color);\n",
              "    fill: var(--disabled-fill-color);\n",
              "    box-shadow: none;\n",
              "  }\n",
              "\n",
              "  .colab-df-spinner {\n",
              "    border: 2px solid var(--fill-color);\n",
              "    border-color: transparent;\n",
              "    border-bottom-color: var(--fill-color);\n",
              "    animation:\n",
              "      spin 1s steps(1) infinite;\n",
              "  }\n",
              "\n",
              "  @keyframes spin {\n",
              "    0% {\n",
              "      border-color: transparent;\n",
              "      border-bottom-color: var(--fill-color);\n",
              "      border-left-color: var(--fill-color);\n",
              "    }\n",
              "    20% {\n",
              "      border-color: transparent;\n",
              "      border-left-color: var(--fill-color);\n",
              "      border-top-color: var(--fill-color);\n",
              "    }\n",
              "    30% {\n",
              "      border-color: transparent;\n",
              "      border-left-color: var(--fill-color);\n",
              "      border-top-color: var(--fill-color);\n",
              "      border-right-color: var(--fill-color);\n",
              "    }\n",
              "    40% {\n",
              "      border-color: transparent;\n",
              "      border-right-color: var(--fill-color);\n",
              "      border-top-color: var(--fill-color);\n",
              "    }\n",
              "    60% {\n",
              "      border-color: transparent;\n",
              "      border-right-color: var(--fill-color);\n",
              "    }\n",
              "    80% {\n",
              "      border-color: transparent;\n",
              "      border-right-color: var(--fill-color);\n",
              "      border-bottom-color: var(--fill-color);\n",
              "    }\n",
              "    90% {\n",
              "      border-color: transparent;\n",
              "      border-bottom-color: var(--fill-color);\n",
              "    }\n",
              "  }\n",
              "</style>\n",
              "\n",
              "      <script>\n",
              "        async function quickchart(key) {\n",
              "          const quickchartButtonEl =\n",
              "            document.querySelector('#' + key + ' button');\n",
              "          quickchartButtonEl.disabled = true;  // To prevent multiple clicks.\n",
              "          quickchartButtonEl.classList.add('colab-df-spinner');\n",
              "          try {\n",
              "            const charts = await google.colab.kernel.invokeFunction(\n",
              "                'suggestCharts', [key], {});\n",
              "          } catch (error) {\n",
              "            console.error('Error during call to suggestCharts:', error);\n",
              "          }\n",
              "          quickchartButtonEl.classList.remove('colab-df-spinner');\n",
              "          quickchartButtonEl.classList.add('colab-df-quickchart-complete');\n",
              "        }\n",
              "        (() => {\n",
              "          let quickchartButtonEl =\n",
              "            document.querySelector('#df-0aa2f146-7d42-46c2-85ff-406cf475f3bb button');\n",
              "          quickchartButtonEl.style.display =\n",
              "            google.colab.kernel.accessAllowed ? 'block' : 'none';\n",
              "        })();\n",
              "      </script>\n",
              "    </div>\n",
              "\n",
              "    </div>\n",
              "  </div>\n"
            ],
            "application/vnd.google.colaboratory.intrinsic+json": {
              "type": "dataframe",
              "variable_name": "ratings"
            }
          },
          "metadata": {},
          "execution_count": 7
        }
      ],
      "source": [
        "print(\"\\nRatings DataFrame:\")\n",
        "ratings.head()"
      ]
    },
    {
      "cell_type": "markdown",
      "source": [
        "## Exploratory Data Analysis"
      ],
      "metadata": {
        "id": "uU6r-FpZ5dfV"
      }
    },
    {
      "cell_type": "code",
      "execution_count": 8,
      "metadata": {
        "colab": {
          "base_uri": "https://localhost:8080/",
          "height": 336
        },
        "id": "VwEO5laUaP1P",
        "outputId": "36543926-3c21-43e0-cf49-c81d06837dc2"
      },
      "outputs": [
        {
          "output_type": "stream",
          "name": "stdout",
          "text": [
            "\n",
            "--- Basic Stats for Ratings ---\n"
          ]
        },
        {
          "output_type": "display_data",
          "data": {
            "text/plain": [
              "            user_id      movie_id        rating     timestamp\n",
              "count  1.000005e+07  1.000005e+07  1.000005e+07  1.000005e+07\n",
              "mean   3.586986e+04  4.120291e+03  3.512422e+00  1.032606e+09\n",
              "std    2.058534e+04  8.938402e+03  1.060418e+00  1.159640e+08\n",
              "min    1.000000e+00  1.000000e+00  5.000000e-01  7.896520e+08\n",
              "25%    1.812300e+04  6.480000e+02  3.000000e+00  9.467659e+08\n",
              "50%    3.574050e+04  1.834000e+03  4.000000e+00  1.035476e+09\n",
              "75%    5.360800e+04  3.624000e+03  4.000000e+00  1.126749e+09\n",
              "max    7.156700e+04  6.513300e+04  5.000000e+00  1.231132e+09"
            ],
            "text/html": [
              "\n",
              "  <div id=\"df-c7d95433-5071-47d0-8230-9ae887d368c3\" class=\"colab-df-container\">\n",
              "    <div>\n",
              "<style scoped>\n",
              "    .dataframe tbody tr th:only-of-type {\n",
              "        vertical-align: middle;\n",
              "    }\n",
              "\n",
              "    .dataframe tbody tr th {\n",
              "        vertical-align: top;\n",
              "    }\n",
              "\n",
              "    .dataframe thead th {\n",
              "        text-align: right;\n",
              "    }\n",
              "</style>\n",
              "<table border=\"1\" class=\"dataframe\">\n",
              "  <thead>\n",
              "    <tr style=\"text-align: right;\">\n",
              "      <th></th>\n",
              "      <th>user_id</th>\n",
              "      <th>movie_id</th>\n",
              "      <th>rating</th>\n",
              "      <th>timestamp</th>\n",
              "    </tr>\n",
              "  </thead>\n",
              "  <tbody>\n",
              "    <tr>\n",
              "      <th>count</th>\n",
              "      <td>1.000005e+07</td>\n",
              "      <td>1.000005e+07</td>\n",
              "      <td>1.000005e+07</td>\n",
              "      <td>1.000005e+07</td>\n",
              "    </tr>\n",
              "    <tr>\n",
              "      <th>mean</th>\n",
              "      <td>3.586986e+04</td>\n",
              "      <td>4.120291e+03</td>\n",
              "      <td>3.512422e+00</td>\n",
              "      <td>1.032606e+09</td>\n",
              "    </tr>\n",
              "    <tr>\n",
              "      <th>std</th>\n",
              "      <td>2.058534e+04</td>\n",
              "      <td>8.938402e+03</td>\n",
              "      <td>1.060418e+00</td>\n",
              "      <td>1.159640e+08</td>\n",
              "    </tr>\n",
              "    <tr>\n",
              "      <th>min</th>\n",
              "      <td>1.000000e+00</td>\n",
              "      <td>1.000000e+00</td>\n",
              "      <td>5.000000e-01</td>\n",
              "      <td>7.896520e+08</td>\n",
              "    </tr>\n",
              "    <tr>\n",
              "      <th>25%</th>\n",
              "      <td>1.812300e+04</td>\n",
              "      <td>6.480000e+02</td>\n",
              "      <td>3.000000e+00</td>\n",
              "      <td>9.467659e+08</td>\n",
              "    </tr>\n",
              "    <tr>\n",
              "      <th>50%</th>\n",
              "      <td>3.574050e+04</td>\n",
              "      <td>1.834000e+03</td>\n",
              "      <td>4.000000e+00</td>\n",
              "      <td>1.035476e+09</td>\n",
              "    </tr>\n",
              "    <tr>\n",
              "      <th>75%</th>\n",
              "      <td>5.360800e+04</td>\n",
              "      <td>3.624000e+03</td>\n",
              "      <td>4.000000e+00</td>\n",
              "      <td>1.126749e+09</td>\n",
              "    </tr>\n",
              "    <tr>\n",
              "      <th>max</th>\n",
              "      <td>7.156700e+04</td>\n",
              "      <td>6.513300e+04</td>\n",
              "      <td>5.000000e+00</td>\n",
              "      <td>1.231132e+09</td>\n",
              "    </tr>\n",
              "  </tbody>\n",
              "</table>\n",
              "</div>\n",
              "    <div class=\"colab-df-buttons\">\n",
              "\n",
              "  <div class=\"colab-df-container\">\n",
              "    <button class=\"colab-df-convert\" onclick=\"convertToInteractive('df-c7d95433-5071-47d0-8230-9ae887d368c3')\"\n",
              "            title=\"Convert this dataframe to an interactive table.\"\n",
              "            style=\"display:none;\">\n",
              "\n",
              "  <svg xmlns=\"http://www.w3.org/2000/svg\" height=\"24px\" viewBox=\"0 -960 960 960\">\n",
              "    <path d=\"M120-120v-720h720v720H120Zm60-500h600v-160H180v160Zm220 220h160v-160H400v160Zm0 220h160v-160H400v160ZM180-400h160v-160H180v160Zm440 0h160v-160H620v160ZM180-180h160v-160H180v160Zm440 0h160v-160H620v160Z\"/>\n",
              "  </svg>\n",
              "    </button>\n",
              "\n",
              "  <style>\n",
              "    .colab-df-container {\n",
              "      display:flex;\n",
              "      gap: 12px;\n",
              "    }\n",
              "\n",
              "    .colab-df-convert {\n",
              "      background-color: #E8F0FE;\n",
              "      border: none;\n",
              "      border-radius: 50%;\n",
              "      cursor: pointer;\n",
              "      display: none;\n",
              "      fill: #1967D2;\n",
              "      height: 32px;\n",
              "      padding: 0 0 0 0;\n",
              "      width: 32px;\n",
              "    }\n",
              "\n",
              "    .colab-df-convert:hover {\n",
              "      background-color: #E2EBFA;\n",
              "      box-shadow: 0px 1px 2px rgba(60, 64, 67, 0.3), 0px 1px 3px 1px rgba(60, 64, 67, 0.15);\n",
              "      fill: #174EA6;\n",
              "    }\n",
              "\n",
              "    .colab-df-buttons div {\n",
              "      margin-bottom: 4px;\n",
              "    }\n",
              "\n",
              "    [theme=dark] .colab-df-convert {\n",
              "      background-color: #3B4455;\n",
              "      fill: #D2E3FC;\n",
              "    }\n",
              "\n",
              "    [theme=dark] .colab-df-convert:hover {\n",
              "      background-color: #434B5C;\n",
              "      box-shadow: 0px 1px 3px 1px rgba(0, 0, 0, 0.15);\n",
              "      filter: drop-shadow(0px 1px 2px rgba(0, 0, 0, 0.3));\n",
              "      fill: #FFFFFF;\n",
              "    }\n",
              "  </style>\n",
              "\n",
              "    <script>\n",
              "      const buttonEl =\n",
              "        document.querySelector('#df-c7d95433-5071-47d0-8230-9ae887d368c3 button.colab-df-convert');\n",
              "      buttonEl.style.display =\n",
              "        google.colab.kernel.accessAllowed ? 'block' : 'none';\n",
              "\n",
              "      async function convertToInteractive(key) {\n",
              "        const element = document.querySelector('#df-c7d95433-5071-47d0-8230-9ae887d368c3');\n",
              "        const dataTable =\n",
              "          await google.colab.kernel.invokeFunction('convertToInteractive',\n",
              "                                                    [key], {});\n",
              "        if (!dataTable) return;\n",
              "\n",
              "        const docLinkHtml = 'Like what you see? Visit the ' +\n",
              "          '<a target=\"_blank\" href=https://colab.research.google.com/notebooks/data_table.ipynb>data table notebook</a>'\n",
              "          + ' to learn more about interactive tables.';\n",
              "        element.innerHTML = '';\n",
              "        dataTable['output_type'] = 'display_data';\n",
              "        await google.colab.output.renderOutput(dataTable, element);\n",
              "        const docLink = document.createElement('div');\n",
              "        docLink.innerHTML = docLinkHtml;\n",
              "        element.appendChild(docLink);\n",
              "      }\n",
              "    </script>\n",
              "  </div>\n",
              "\n",
              "\n",
              "    <div id=\"df-3625eeed-36fc-47d3-aa79-44fe93fd9baf\">\n",
              "      <button class=\"colab-df-quickchart\" onclick=\"quickchart('df-3625eeed-36fc-47d3-aa79-44fe93fd9baf')\"\n",
              "                title=\"Suggest charts\"\n",
              "                style=\"display:none;\">\n",
              "\n",
              "<svg xmlns=\"http://www.w3.org/2000/svg\" height=\"24px\"viewBox=\"0 0 24 24\"\n",
              "     width=\"24px\">\n",
              "    <g>\n",
              "        <path d=\"M19 3H5c-1.1 0-2 .9-2 2v14c0 1.1.9 2 2 2h14c1.1 0 2-.9 2-2V5c0-1.1-.9-2-2-2zM9 17H7v-7h2v7zm4 0h-2V7h2v10zm4 0h-2v-4h2v4z\"/>\n",
              "    </g>\n",
              "</svg>\n",
              "      </button>\n",
              "\n",
              "<style>\n",
              "  .colab-df-quickchart {\n",
              "      --bg-color: #E8F0FE;\n",
              "      --fill-color: #1967D2;\n",
              "      --hover-bg-color: #E2EBFA;\n",
              "      --hover-fill-color: #174EA6;\n",
              "      --disabled-fill-color: #AAA;\n",
              "      --disabled-bg-color: #DDD;\n",
              "  }\n",
              "\n",
              "  [theme=dark] .colab-df-quickchart {\n",
              "      --bg-color: #3B4455;\n",
              "      --fill-color: #D2E3FC;\n",
              "      --hover-bg-color: #434B5C;\n",
              "      --hover-fill-color: #FFFFFF;\n",
              "      --disabled-bg-color: #3B4455;\n",
              "      --disabled-fill-color: #666;\n",
              "  }\n",
              "\n",
              "  .colab-df-quickchart {\n",
              "    background-color: var(--bg-color);\n",
              "    border: none;\n",
              "    border-radius: 50%;\n",
              "    cursor: pointer;\n",
              "    display: none;\n",
              "    fill: var(--fill-color);\n",
              "    height: 32px;\n",
              "    padding: 0;\n",
              "    width: 32px;\n",
              "  }\n",
              "\n",
              "  .colab-df-quickchart:hover {\n",
              "    background-color: var(--hover-bg-color);\n",
              "    box-shadow: 0 1px 2px rgba(60, 64, 67, 0.3), 0 1px 3px 1px rgba(60, 64, 67, 0.15);\n",
              "    fill: var(--button-hover-fill-color);\n",
              "  }\n",
              "\n",
              "  .colab-df-quickchart-complete:disabled,\n",
              "  .colab-df-quickchart-complete:disabled:hover {\n",
              "    background-color: var(--disabled-bg-color);\n",
              "    fill: var(--disabled-fill-color);\n",
              "    box-shadow: none;\n",
              "  }\n",
              "\n",
              "  .colab-df-spinner {\n",
              "    border: 2px solid var(--fill-color);\n",
              "    border-color: transparent;\n",
              "    border-bottom-color: var(--fill-color);\n",
              "    animation:\n",
              "      spin 1s steps(1) infinite;\n",
              "  }\n",
              "\n",
              "  @keyframes spin {\n",
              "    0% {\n",
              "      border-color: transparent;\n",
              "      border-bottom-color: var(--fill-color);\n",
              "      border-left-color: var(--fill-color);\n",
              "    }\n",
              "    20% {\n",
              "      border-color: transparent;\n",
              "      border-left-color: var(--fill-color);\n",
              "      border-top-color: var(--fill-color);\n",
              "    }\n",
              "    30% {\n",
              "      border-color: transparent;\n",
              "      border-left-color: var(--fill-color);\n",
              "      border-top-color: var(--fill-color);\n",
              "      border-right-color: var(--fill-color);\n",
              "    }\n",
              "    40% {\n",
              "      border-color: transparent;\n",
              "      border-right-color: var(--fill-color);\n",
              "      border-top-color: var(--fill-color);\n",
              "    }\n",
              "    60% {\n",
              "      border-color: transparent;\n",
              "      border-right-color: var(--fill-color);\n",
              "    }\n",
              "    80% {\n",
              "      border-color: transparent;\n",
              "      border-right-color: var(--fill-color);\n",
              "      border-bottom-color: var(--fill-color);\n",
              "    }\n",
              "    90% {\n",
              "      border-color: transparent;\n",
              "      border-bottom-color: var(--fill-color);\n",
              "    }\n",
              "  }\n",
              "</style>\n",
              "\n",
              "      <script>\n",
              "        async function quickchart(key) {\n",
              "          const quickchartButtonEl =\n",
              "            document.querySelector('#' + key + ' button');\n",
              "          quickchartButtonEl.disabled = true;  // To prevent multiple clicks.\n",
              "          quickchartButtonEl.classList.add('colab-df-spinner');\n",
              "          try {\n",
              "            const charts = await google.colab.kernel.invokeFunction(\n",
              "                'suggestCharts', [key], {});\n",
              "          } catch (error) {\n",
              "            console.error('Error during call to suggestCharts:', error);\n",
              "          }\n",
              "          quickchartButtonEl.classList.remove('colab-df-spinner');\n",
              "          quickchartButtonEl.classList.add('colab-df-quickchart-complete');\n",
              "        }\n",
              "        (() => {\n",
              "          let quickchartButtonEl =\n",
              "            document.querySelector('#df-3625eeed-36fc-47d3-aa79-44fe93fd9baf button');\n",
              "          quickchartButtonEl.style.display =\n",
              "            google.colab.kernel.accessAllowed ? 'block' : 'none';\n",
              "        })();\n",
              "      </script>\n",
              "    </div>\n",
              "\n",
              "    </div>\n",
              "  </div>\n"
            ],
            "application/vnd.google.colaboratory.intrinsic+json": {
              "type": "dataframe",
              "summary": "{\n  \"name\": \"display(ratings\",\n  \"rows\": 8,\n  \"fields\": [\n    {\n      \"column\": \"user_id\",\n      \"properties\": {\n        \"dtype\": \"number\",\n        \"std\": 3523727.4246981526,\n        \"min\": 1.0,\n        \"max\": 10000054.0,\n        \"num_unique_values\": 8,\n        \"samples\": [\n          35869.85940925919,\n          35740.5,\n          10000054.0\n        ],\n        \"semantic_type\": \"\",\n        \"description\": \"\"\n      }\n    },\n    {\n      \"column\": \"movie_id\",\n      \"properties\": {\n        \"dtype\": \"number\",\n        \"std\": 3531362.8478691885,\n        \"min\": 1.0,\n        \"max\": 10000054.0,\n        \"num_unique_values\": 8,\n        \"samples\": [\n          4120.291476526027,\n          1834.0,\n          10000054.0\n        ],\n        \"semantic_type\": \"\",\n        \"description\": \"\"\n      }\n    },\n    {\n      \"column\": \"rating\",\n      \"properties\": {\n        \"dtype\": \"number\",\n        \"std\": 3535551.9334769906,\n        \"min\": 0.5,\n        \"max\": 10000054.0,\n        \"num_unique_values\": 7,\n        \"samples\": [\n          10000054.0,\n          3.512421932921562,\n          4.0\n        ],\n        \"semantic_type\": \"\",\n        \"description\": \"\"\n      }\n    },\n    {\n      \"column\": \"timestamp\",\n      \"properties\": {\n        \"dtype\": \"number\",\n        \"std\": 465109602.89207315,\n        \"min\": 10000054.0,\n        \"max\": 1231131736.0,\n        \"num_unique_values\": 8,\n        \"samples\": [\n          1032606354.6983076,\n          1035476481.0,\n          10000054.0\n        ],\n        \"semantic_type\": \"\",\n        \"description\": \"\"\n      }\n    }\n  ]\n}"
            }
          },
          "metadata": {}
        }
      ],
      "source": [
        "print(\"\\n--- Basic Stats for Ratings ---\")\n",
        "display(ratings.describe())"
      ]
    },
    {
      "cell_type": "markdown",
      "metadata": {
        "id": "0VD121_IHrhv"
      },
      "source": [
        "Get information about the data types and non-null values"
      ]
    },
    {
      "cell_type": "code",
      "execution_count": 9,
      "metadata": {
        "colab": {
          "base_uri": "https://localhost:8080/"
        },
        "id": "0XS4Jhc3Hqph",
        "outputId": "eaf6e70b-e423-439b-b831-2c39982420e9"
      },
      "outputs": [
        {
          "output_type": "stream",
          "name": "stdout",
          "text": [
            "\n",
            "Movies Info:\n",
            "<class 'pandas.core.frame.DataFrame'>\n",
            "RangeIndex: 10681 entries, 0 to 10680\n",
            "Data columns (total 3 columns):\n",
            " #   Column    Non-Null Count  Dtype \n",
            "---  ------    --------------  ----- \n",
            " 0   movie_id  10681 non-null  int64 \n",
            " 1   title     10681 non-null  object\n",
            " 2   genres    10681 non-null  object\n",
            "dtypes: int64(1), object(2)\n",
            "memory usage: 250.5+ KB\n"
          ]
        }
      ],
      "source": [
        "print(\"\\nMovies Info:\")\n",
        "movies.info()"
      ]
    },
    {
      "cell_type": "code",
      "execution_count": 10,
      "metadata": {
        "colab": {
          "base_uri": "https://localhost:8080/"
        },
        "id": "ST6kkTbgHydV",
        "outputId": "6a6eb8eb-74fa-4bbb-eafd-9c3ad3d9a732"
      },
      "outputs": [
        {
          "output_type": "stream",
          "name": "stdout",
          "text": [
            "\n",
            "Ratings Info:\n",
            "<class 'pandas.core.frame.DataFrame'>\n",
            "RangeIndex: 10000054 entries, 0 to 10000053\n",
            "Data columns (total 4 columns):\n",
            " #   Column     Dtype  \n",
            "---  ------     -----  \n",
            " 0   user_id    int64  \n",
            " 1   movie_id   int64  \n",
            " 2   rating     float64\n",
            " 3   timestamp  int64  \n",
            "dtypes: float64(1), int64(3)\n",
            "memory usage: 305.2 MB\n"
          ]
        }
      ],
      "source": [
        "print(\"\\nRatings Info:\")\n",
        "ratings.info()"
      ]
    },
    {
      "cell_type": "markdown",
      "metadata": {
        "id": "MPr_I9NlIJcG"
      },
      "source": [
        "Get a count of unique users and movies"
      ]
    },
    {
      "cell_type": "code",
      "execution_count": 11,
      "metadata": {
        "colab": {
          "base_uri": "https://localhost:8080/"
        },
        "id": "7nB6p1RotaNm",
        "outputId": "ecd8fc05-cf20-46b7-93b3-e848a287d5fc"
      },
      "outputs": [
        {
          "output_type": "stream",
          "name": "stdout",
          "text": [
            "\n",
            "Number of unique users: 69878\n",
            "Number of unique movies: 10677\n"
          ]
        }
      ],
      "source": [
        "n_users = ratings['user_id'].nunique()\n",
        "n_movies = ratings['movie_id'].nunique()\n",
        "print(f\"\\nNumber of unique users: {n_users}\")\n",
        "print(f\"Number of unique movies: {n_movies}\")"
      ]
    },
    {
      "cell_type": "code",
      "source": [
        "genre_set = set()\n",
        "for genre_string in movies['genres'].dropna():\n",
        "    genres = genre_string.split('|')\n",
        "    genre_set.update(genres)\n",
        "\n",
        "print(\"Total of unique genre:\", len(genre_set))\n",
        "print(\"list of unique genre:\")\n",
        "for genre in sorted(genre_set):\n",
        "    print(\"-\", genre)"
      ],
      "metadata": {
        "colab": {
          "base_uri": "https://localhost:8080/"
        },
        "id": "qLpe_oozoxKV",
        "outputId": "a6577c4f-ddb7-44af-b600-f185026bca01"
      },
      "execution_count": 12,
      "outputs": [
        {
          "output_type": "stream",
          "name": "stdout",
          "text": [
            "Total of unique genre: 20\n",
            "list of unique genre:\n",
            "- (no genres listed)\n",
            "- Action\n",
            "- Adventure\n",
            "- Animation\n",
            "- Children\n",
            "- Comedy\n",
            "- Crime\n",
            "- Documentary\n",
            "- Drama\n",
            "- Fantasy\n",
            "- Film-Noir\n",
            "- Horror\n",
            "- IMAX\n",
            "- Musical\n",
            "- Mystery\n",
            "- Romance\n",
            "- Sci-Fi\n",
            "- Thriller\n",
            "- War\n",
            "- Western\n"
          ]
        }
      ]
    },
    {
      "cell_type": "markdown",
      "source": [
        "\n",
        "\n",
        "Distribution of Ratings"
      ],
      "metadata": {
        "id": "jsJ1xx2foI8u"
      }
    },
    {
      "cell_type": "code",
      "execution_count": 13,
      "metadata": {
        "colab": {
          "base_uri": "https://localhost:8080/",
          "height": 665
        },
        "id": "1XQxkyljajCb",
        "outputId": "05359291-a294-47df-ffca-da987cf6078a"
      },
      "outputs": [
        {
          "output_type": "stream",
          "name": "stderr",
          "text": [
            "<ipython-input-13-706218447>:2: FutureWarning: \n",
            "\n",
            "Passing `palette` without assigning `hue` is deprecated and will be removed in v0.14.0. Assign the `x` variable to `hue` and set `legend=False` for the same effect.\n",
            "\n",
            "  sns.countplot(x='rating', data=ratings, palette='viridis')\n"
          ]
        },
        {
          "output_type": "display_data",
          "data": {
            "text/plain": [
              "<Figure size 1000x600 with 1 Axes>"
            ],
            "image/png": "[encoded data removed]"
          },
          "metadata": {}
        }
      ],
      "source": [
        "plt.figure(figsize=(10, 6))\n",
        "sns.countplot(x='rating', data=ratings, palette='viridis')\n",
        "plt.title('Distribution of Movie Ratings', fontsize=16)\n",
        "plt.xlabel('Rating')\n",
        "plt.ylabel('Count')\n",
        "plt.show()"
      ]
    },
    {
      "cell_type": "markdown",
      "source": [
        "This graph shows two clear user behaviors:\n",
        "\n",
        "1. Ratings are mostly positive: The most frequent scores are 4, 3, and 5 stars, meaning our model learns more from what users like than what they dislike.\n",
        "2. Users prefer whole numbers: Whole-star ratings (like 4.0) are far more common than half-star ratings (like 4.5).  \n",
        "\n",
        "This distribution also validates our strategy of defining a \"liked\" movie as one rated 4 stars or higher, as this is clearly a common way for users to show enjoyment."
      ],
      "metadata": {
        "id": "xbb6ZnK940tg"
      }
    },
    {
      "cell_type": "markdown",
      "source": [
        "Top 10 Most Common Genres"
      ],
      "metadata": {
        "id": "rULO6H4BoRYJ"
      }
    },
    {
      "cell_type": "code",
      "execution_count": 14,
      "metadata": {
        "colab": {
          "base_uri": "https://localhost:8080/",
          "height": 742
        },
        "id": "9qViOErgbBxN",
        "outputId": "275e77f3-a4c1-4389-e734-528d55dc1315"
      },
      "outputs": [
        {
          "output_type": "stream",
          "name": "stderr",
          "text": [
            "<ipython-input-14-4241734516>:7: FutureWarning: \n",
            "\n",
            "Passing `palette` without assigning `hue` is deprecated and will be removed in v0.14.0. Assign the `y` variable to `hue` and set `legend=False` for the same effect.\n",
            "\n",
            "  sns.barplot(x=top_10_genres.values, y=top_10_genres.index, palette='mako')\n"
          ]
        },
        {
          "output_type": "display_data",
          "data": {
            "text/plain": [
              "<Figure size 1200x700 with 1 Axes>"
            ],
            "image/png": "[encoded data removed]"
          },
          "metadata": {}
        }
      ],
      "source": [
        "plt.figure(figsize=(12, 7))\n",
        "\n",
        "genre_counts = movies['genres'].str.split('|').explode().value_counts()\n",
        "\n",
        "top_10_genres = genre_counts.head(10)\n",
        "\n",
        "sns.barplot(x=top_10_genres.values, y=top_10_genres.index, palette='mako')\n",
        "plt.title('Top 10 Most Common Movie Genres', fontsize=16)\n",
        "plt.xlabel('Number of Movies')\n",
        "plt.ylabel('Genre')\n",
        "plt.show()"
      ]
    },
    {
      "cell_type": "markdown",
      "source": [
        "This graph reveals that Drama and Comedy are the most common genres in the dataset by a large margin.\n",
        "\n",
        "This creates a 'popularity bias,' meaning the model is trained on far more data for these genres than for niche ones like Sci-Fi or Fantasy.\n",
        "\n",
        "Consequently, the recommendation system will likely favor mainstream films and may struggle to provide diverse or unexpected suggestions for users who prefer less common genres."
      ],
      "metadata": {
        "id": "EANa0zoM0pH8"
      }
    },
    {
      "cell_type": "markdown",
      "source": [
        "## Data Preprocessing"
      ],
      "metadata": {
        "id": "dcap2jn550rp"
      }
    },
    {
      "cell_type": "code",
      "source": [
        "ratings = ratings.drop('timestamp', axis=1)\n",
        "print(\"\\nRatings DataFrame after dropping timestamp:\")\n",
        "ratings.head()"
      ],
      "metadata": {
        "colab": {
          "base_uri": "https://localhost:8080/",
          "height": 242
        },
        "id": "u5Ht0CzzXhVd",
        "outputId": "4cefb179-8ed3-4ae6-98b7-30b9cf6b0d1a"
      },
      "execution_count": 15,
      "outputs": [
        {
          "output_type": "stream",
          "name": "stdout",
          "text": [
            "\n",
            "Ratings DataFrame after dropping timestamp:\n"
          ]
        },
        {
          "output_type": "execute_result",
          "data": {
            "text/plain": [
              "   user_id  movie_id  rating\n",
              "0        1       122     5.0\n",
              "1        1       185     5.0\n",
              "2        1       231     5.0\n",
              "3        1       292     5.0\n",
              "4        1       316     5.0"
            ],
            "text/html": [
              "\n",
              "  <div id=\"df-0b0b9697-e67e-4e6e-9aa3-007b63e7da70\" class=\"colab-df-container\">\n",
              "    <div>\n",
              "<style scoped>\n",
              "    .dataframe tbody tr th:only-of-type {\n",
              "        vertical-align: middle;\n",
              "    }\n",
              "\n",
              "    .dataframe tbody tr th {\n",
              "        vertical-align: top;\n",
              "    }\n",
              "\n",
              "    .dataframe thead th {\n",
              "        text-align: right;\n",
              "    }\n",
              "</style>\n",
              "<table border=\"1\" class=\"dataframe\">\n",
              "  <thead>\n",
              "    <tr style=\"text-align: right;\">\n",
              "      <th></th>\n",
              "      <th>user_id</th>\n",
              "      <th>movie_id</th>\n",
              "      <th>rating</th>\n",
              "    </tr>\n",
              "  </thead>\n",
              "  <tbody>\n",
              "    <tr>\n",
              "      <th>0</th>\n",
              "      <td>1</td>\n",
              "      <td>122</td>\n",
              "      <td>5.0</td>\n",
              "    </tr>\n",
              "    <tr>\n",
              "      <th>1</th>\n",
              "      <td>1</td>\n",
              "      <td>185</td>\n",
              "      <td>5.0</td>\n",
              "    </tr>\n",
              "    <tr>\n",
              "      <th>2</th>\n",
              "      <td>1</td>\n",
              "      <td>231</td>\n",
              "      <td>5.0</td>\n",
              "    </tr>\n",
              "    <tr>\n",
              "      <th>3</th>\n",
              "      <td>1</td>\n",
              "      <td>292</td>\n",
              "      <td>5.0</td>\n",
              "    </tr>\n",
              "    <tr>\n",
              "      <th>4</th>\n",
              "      <td>1</td>\n",
              "      <td>316</td>\n",
              "      <td>5.0</td>\n",
              "    </tr>\n",
              "  </tbody>\n",
              "</table>\n",
              "</div>\n",
              "    <div class=\"colab-df-buttons\">\n",
              "\n",
              "  <div class=\"colab-df-container\">\n",
              "    <button class=\"colab-df-convert\" onclick=\"convertToInteractive('df-0b0b9697-e67e-4e6e-9aa3-007b63e7da70')\"\n",
              "            title=\"Convert this dataframe to an interactive table.\"\n",
              "            style=\"display:none;\">\n",
              "\n",
              "  <svg xmlns=\"http://www.w3.org/2000/svg\" height=\"24px\" viewBox=\"0 -960 960 960\">\n",
              "    <path d=\"M120-120v-720h720v720H120Zm60-500h600v-160H180v160Zm220 220h160v-160H400v160Zm0 220h160v-160H400v160ZM180-400h160v-160H180v160Zm440 0h160v-160H620v160ZM180-180h160v-160H180v160Zm440 0h160v-160H620v160Z\"/>\n",
              "  </svg>\n",
              "    </button>\n",
              "\n",
              "  <style>\n",
              "    .colab-df-container {\n",
              "      display:flex;\n",
              "      gap: 12px;\n",
              "    }\n",
              "\n",
              "    .colab-df-convert {\n",
              "      background-color: #E8F0FE;\n",
              "      border: none;\n",
              "      border-radius: 50%;\n",
              "      cursor: pointer;\n",
              "      display: none;\n",
              "      fill: #1967D2;\n",
              "      height: 32px;\n",
              "      padding: 0 0 0 0;\n",
              "      width: 32px;\n",
              "    }\n",
              "\n",
              "    .colab-df-convert:hover {\n",
              "      background-color: #E2EBFA;\n",
              "      box-shadow: 0px 1px 2px rgba(60, 64, 67, 0.3), 0px 1px 3px 1px rgba(60, 64, 67, 0.15);\n",
              "      fill: #174EA6;\n",
              "    }\n",
              "\n",
              "    .colab-df-buttons div {\n",
              "      margin-bottom: 4px;\n",
              "    }\n",
              "\n",
              "    [theme=dark] .colab-df-convert {\n",
              "      background-color: #3B4455;\n",
              "      fill: #D2E3FC;\n",
              "    }\n",
              "\n",
              "    [theme=dark] .colab-df-convert:hover {\n",
              "      background-color: #434B5C;\n",
              "      box-shadow: 0px 1px 3px 1px rgba(0, 0, 0, 0.15);\n",
              "      filter: drop-shadow(0px 1px 2px rgba(0, 0, 0, 0.3));\n",
              "      fill: #FFFFFF;\n",
              "    }\n",
              "  </style>\n",
              "\n",
              "    <script>\n",
              "      const buttonEl =\n",
              "        document.querySelector('#df-0b0b9697-e67e-4e6e-9aa3-007b63e7da70 button.colab-df-convert');\n",
              "      buttonEl.style.display =\n",
              "        google.colab.kernel.accessAllowed ? 'block' : 'none';\n",
              "\n",
              "      async function convertToInteractive(key) {\n",
              "        const element = document.querySelector('#df-0b0b9697-e67e-4e6e-9aa3-007b63e7da70');\n",
              "        const dataTable =\n",
              "          await google.colab.kernel.invokeFunction('convertToInteractive',\n",
              "                                                    [key], {});\n",
              "        if (!dataTable) return;\n",
              "\n",
              "        const docLinkHtml = 'Like what you see? Visit the ' +\n",
              "          '<a target=\"_blank\" href=https://colab.research.google.com/notebooks/data_table.ipynb>data table notebook</a>'\n",
              "          + ' to learn more about interactive tables.';\n",
              "        element.innerHTML = '';\n",
              "        dataTable['output_type'] = 'display_data';\n",
              "        await google.colab.output.renderOutput(dataTable, element);\n",
              "        const docLink = document.createElement('div');\n",
              "        docLink.innerHTML = docLinkHtml;\n",
              "        element.appendChild(docLink);\n",
              "      }\n",
              "    </script>\n",
              "  </div>\n",
              "\n",
              "\n",
              "    <div id=\"df-3cbad52c-2e2a-425a-9c82-6a47aba185ed\">\n",
              "      <button class=\"colab-df-quickchart\" onclick=\"quickchart('df-3cbad52c-2e2a-425a-9c82-6a47aba185ed')\"\n",
              "                title=\"Suggest charts\"\n",
              "                style=\"display:none;\">\n",
              "\n",
              "<svg xmlns=\"http://www.w3.org/2000/svg\" height=\"24px\"viewBox=\"0 0 24 24\"\n",
              "     width=\"24px\">\n",
              "    <g>\n",
              "        <path d=\"M19 3H5c-1.1 0-2 .9-2 2v14c0 1.1.9 2 2 2h14c1.1 0 2-.9 2-2V5c0-1.1-.9-2-2-2zM9 17H7v-7h2v7zm4 0h-2V7h2v10zm4 0h-2v-4h2v4z\"/>\n",
              "    </g>\n",
              "</svg>\n",
              "      </button>\n",
              "\n",
              "<style>\n",
              "  .colab-df-quickchart {\n",
              "      --bg-color: #E8F0FE;\n",
              "      --fill-color: #1967D2;\n",
              "      --hover-bg-color: #E2EBFA;\n",
              "      --hover-fill-color: #174EA6;\n",
              "      --disabled-fill-color: #AAA;\n",
              "      --disabled-bg-color: #DDD;\n",
              "  }\n",
              "\n",
              "  [theme=dark] .colab-df-quickchart {\n",
              "      --bg-color: #3B4455;\n",
              "      --fill-color: #D2E3FC;\n",
              "      --hover-bg-color: #434B5C;\n",
              "      --hover-fill-color: #FFFFFF;\n",
              "      --disabled-bg-color: #3B4455;\n",
              "      --disabled-fill-color: #666;\n",
              "  }\n",
              "\n",
              "  .colab-df-quickchart {\n",
              "    background-color: var(--bg-color);\n",
              "    border: none;\n",
              "    border-radius: 50%;\n",
              "    cursor: pointer;\n",
              "    display: none;\n",
              "    fill: var(--fill-color);\n",
              "    height: 32px;\n",
              "    padding: 0;\n",
              "    width: 32px;\n",
              "  }\n",
              "\n",
              "  .colab-df-quickchart:hover {\n",
              "    background-color: var(--hover-bg-color);\n",
              "    box-shadow: 0 1px 2px rgba(60, 64, 67, 0.3), 0 1px 3px 1px rgba(60, 64, 67, 0.15);\n",
              "    fill: var(--button-hover-fill-color);\n",
              "  }\n",
              "\n",
              "  .colab-df-quickchart-complete:disabled,\n",
              "  .colab-df-quickchart-complete:disabled:hover {\n",
              "    background-color: var(--disabled-bg-color);\n",
              "    fill: var(--disabled-fill-color);\n",
              "    box-shadow: none;\n",
              "  }\n",
              "\n",
              "  .colab-df-spinner {\n",
              "    border: 2px solid var(--fill-color);\n",
              "    border-color: transparent;\n",
              "    border-bottom-color: var(--fill-color);\n",
              "    animation:\n",
              "      spin 1s steps(1) infinite;\n",
              "  }\n",
              "\n",
              "  @keyframes spin {\n",
              "    0% {\n",
              "      border-color: transparent;\n",
              "      border-bottom-color: var(--fill-color);\n",
              "      border-left-color: var(--fill-color);\n",
              "    }\n",
              "    20% {\n",
              "      border-color: transparent;\n",
              "      border-left-color: var(--fill-color);\n",
              "      border-top-color: var(--fill-color);\n",
              "    }\n",
              "    30% {\n",
              "      border-color: transparent;\n",
              "      border-left-color: var(--fill-color);\n",
              "      border-top-color: var(--fill-color);\n",
              "      border-right-color: var(--fill-color);\n",
              "    }\n",
              "    40% {\n",
              "      border-color: transparent;\n",
              "      border-right-color: var(--fill-color);\n",
              "      border-top-color: var(--fill-color);\n",
              "    }\n",
              "    60% {\n",
              "      border-color: transparent;\n",
              "      border-right-color: var(--fill-color);\n",
              "    }\n",
              "    80% {\n",
              "      border-color: transparent;\n",
              "      border-right-color: var(--fill-color);\n",
              "      border-bottom-color: var(--fill-color);\n",
              "    }\n",
              "    90% {\n",
              "      border-color: transparent;\n",
              "      border-bottom-color: var(--fill-color);\n",
              "    }\n",
              "  }\n",
              "</style>\n",
              "\n",
              "      <script>\n",
              "        async function quickchart(key) {\n",
              "          const quickchartButtonEl =\n",
              "            document.querySelector('#' + key + ' button');\n",
              "          quickchartButtonEl.disabled = true;  // To prevent multiple clicks.\n",
              "          quickchartButtonEl.classList.add('colab-df-spinner');\n",
              "          try {\n",
              "            const charts = await google.colab.kernel.invokeFunction(\n",
              "                'suggestCharts', [key], {});\n",
              "          } catch (error) {\n",
              "            console.error('Error during call to suggestCharts:', error);\n",
              "          }\n",
              "          quickchartButtonEl.classList.remove('colab-df-spinner');\n",
              "          quickchartButtonEl.classList.add('colab-df-quickchart-complete');\n",
              "        }\n",
              "        (() => {\n",
              "          let quickchartButtonEl =\n",
              "            document.querySelector('#df-3cbad52c-2e2a-425a-9c82-6a47aba185ed button');\n",
              "          quickchartButtonEl.style.display =\n",
              "            google.colab.kernel.accessAllowed ? 'block' : 'none';\n",
              "        })();\n",
              "      </script>\n",
              "    </div>\n",
              "\n",
              "    </div>\n",
              "  </div>\n"
            ],
            "application/vnd.google.colaboratory.intrinsic+json": {
              "type": "dataframe",
              "variable_name": "ratings"
            }
          },
          "metadata": {},
          "execution_count": 15
        }
      ]
    },
    {
      "cell_type": "markdown",
      "source": [
        "People often drop the timestamp column from a DataFrame like `ratings` when working on recommendation systems or collaborative filtering tasks if the time at which a rating was given is not relevant to the specific analysis or model we are building.\n",
        "\n",
        "In this context of building a model that predicts a user's rating based on user and movie features, the exact moment the rating was given might not contribute to the core problem of understanding user preferences or movie characteristics. The rating itself (`rating`), the user who gave it (`user_id`), and the movie it was given to (`movie_id`) are usually the key pieces of information.\n",
        "\n",
        "Dropping the timestamp simplifies the dataset, reduces memory usage, and potentially speeds up processing, as the model doesn't need to consider or process this extra dimension of data if it's not deemed necessary for the prediction task. If the task involved time-series analysis of ratings or understanding the evolution of user preferences over time, then keeping the timestamp would be crucial. But for a basic collaborative filtering approach, it's often discarded."
      ],
      "metadata": {
        "id": "HCW9f-OQ0Fxy"
      }
    },
    {
      "cell_type": "markdown",
      "source": [
        "Sample active users for computational efficiency\n",
        "We'll take users who have rated at least 500 movies"
      ],
      "metadata": {
        "id": "HaDnhWENofht"
      }
    },
    {
      "cell_type": "code",
      "source": [
        "from sklearn.model_selection import train_test_split\n",
        "\n",
        "user_counts = ratings['user_id'].value_counts()\n",
        "active_users = user_counts[user_counts >= 500].index\n",
        "ratings_sample = ratings[ratings['user_id'].isin(active_users)]"
      ],
      "metadata": {
        "id": "nlYy1xELpXy7"
      },
      "execution_count": 16,
      "outputs": []
    },
    {
      "cell_type": "markdown",
      "source": [
        "Merge the ratings_sample data with movies (join key is 'movie_id')"
      ],
      "metadata": {
        "id": "TO_FDKfsTIHU"
      }
    },
    {
      "cell_type": "code",
      "source": [
        "df = pd.merge(ratings_sample, movies, on='movie_id')"
      ],
      "metadata": {
        "id": "Qqk64NdTTCZr"
      },
      "execution_count": 17,
      "outputs": []
    },
    {
      "cell_type": "markdown",
      "source": [
        "Check the data after merging"
      ],
      "metadata": {
        "id": "SiYlDBvPTVGw"
      }
    },
    {
      "cell_type": "code",
      "source": [
        "print(\"Data after merging and sampling:\")\n",
        "display(df.head())\n",
        "print(f\"Number of records after sampling: {len(df)}\")\n",
        "print(f\"Number of active users sampled: {df['user_id'].nunique()}\")"
      ],
      "metadata": {
        "colab": {
          "base_uri": "https://localhost:8080/",
          "height": 260
        },
        "id": "8U6EhJAPTYuh",
        "outputId": "22a4ac47-0b3b-494c-f994-bbb3496332cb"
      },
      "execution_count": 18,
      "outputs": [
        {
          "output_type": "stream",
          "name": "stdout",
          "text": [
            "Data after merging and sampling:\n"
          ]
        },
        {
          "output_type": "display_data",
          "data": {
            "text/plain": [
              "   user_id  movie_id  rating                                  title  \\\n",
              "0        8         2     2.5                         Jumanji (1995)   \n",
              "1        8         5     3.0     Father of the Bride Part II (1995)   \n",
              "2        8         6     4.0                            Heat (1995)   \n",
              "3        8        16     3.0                          Casino (1995)   \n",
              "4        8        19     3.5  Ace Ventura: When Nature Calls (1995)   \n",
              "\n",
              "                       genres  \n",
              "0  Adventure|Children|Fantasy  \n",
              "1                      Comedy  \n",
              "2       Action|Crime|Thriller  \n",
              "3                 Crime|Drama  \n",
              "4                      Comedy  "
            ],
            "text/html": [
              "\n",
              "  <div id=\"df-fea1c613-82f6-49fc-ac01-249eca10b31f\" class=\"colab-df-container\">\n",
              "    <div>\n",
              "<style scoped>\n",
              "    .dataframe tbody tr th:only-of-type {\n",
              "        vertical-align: middle;\n",
              "    }\n",
              "\n",
              "    .dataframe tbody tr th {\n",
              "        vertical-align: top;\n",
              "    }\n",
              "\n",
              "    .dataframe thead th {\n",
              "        text-align: right;\n",
              "    }\n",
              "</style>\n",
              "<table border=\"1\" class=\"dataframe\">\n",
              "  <thead>\n",
              "    <tr style=\"text-align: right;\">\n",
              "      <th></th>\n",
              "      <th>user_id</th>\n",
              "      <th>movie_id</th>\n",
              "      <th>rating</th>\n",
              "      <th>title</th>\n",
              "      <th>genres</th>\n",
              "    </tr>\n",
              "  </thead>\n",
              "  <tbody>\n",
              "    <tr>\n",
              "      <th>0</th>\n",
              "      <td>8</td>\n",
              "      <td>2</td>\n",
              "      <td>2.5</td>\n",
              "      <td>Jumanji (1995)</td>\n",
              "      <td>Adventure|Children|Fantasy</td>\n",
              "    </tr>\n",
              "    <tr>\n",
              "      <th>1</th>\n",
              "      <td>8</td>\n",
              "      <td>5</td>\n",
              "      <td>3.0</td>\n",
              "      <td>Father of the Bride Part II (1995)</td>\n",
              "      <td>Comedy</td>\n",
              "    </tr>\n",
              "    <tr>\n",
              "      <th>2</th>\n",
              "      <td>8</td>\n",
              "      <td>6</td>\n",
              "      <td>4.0</td>\n",
              "      <td>Heat (1995)</td>\n",
              "      <td>Action|Crime|Thriller</td>\n",
              "    </tr>\n",
              "    <tr>\n",
              "      <th>3</th>\n",
              "      <td>8</td>\n",
              "      <td>16</td>\n",
              "      <td>3.0</td>\n",
              "      <td>Casino (1995)</td>\n",
              "      <td>Crime|Drama</td>\n",
              "    </tr>\n",
              "    <tr>\n",
              "      <th>4</th>\n",
              "      <td>8</td>\n",
              "      <td>19</td>\n",
              "      <td>3.5</td>\n",
              "      <td>Ace Ventura: When Nature Calls (1995)</td>\n",
              "      <td>Comedy</td>\n",
              "    </tr>\n",
              "  </tbody>\n",
              "</table>\n",
              "</div>\n",
              "    <div class=\"colab-df-buttons\">\n",
              "\n",
              "  <div class=\"colab-df-container\">\n",
              "    <button class=\"colab-df-convert\" onclick=\"convertToInteractive('df-fea1c613-82f6-49fc-ac01-249eca10b31f')\"\n",
              "            title=\"Convert this dataframe to an interactive table.\"\n",
              "            style=\"display:none;\">\n",
              "\n",
              "  <svg xmlns=\"http://www.w3.org/2000/svg\" height=\"24px\" viewBox=\"0 -960 960 960\">\n",
              "    <path d=\"M120-120v-720h720v720H120Zm60-500h600v-160H180v160Zm220 220h160v-160H400v160Zm0 220h160v-160H400v160ZM180-400h160v-160H180v160Zm440 0h160v-160H620v160ZM180-180h160v-160H180v160Zm440 0h160v-160H620v160Z\"/>\n",
              "  </svg>\n",
              "    </button>\n",
              "\n",
              "  <style>\n",
              "    .colab-df-container {\n",
              "      display:flex;\n",
              "      gap: 12px;\n",
              "    }\n",
              "\n",
              "    .colab-df-convert {\n",
              "      background-color: #E8F0FE;\n",
              "      border: none;\n",
              "      border-radius: 50%;\n",
              "      cursor: pointer;\n",
              "      display: none;\n",
              "      fill: #1967D2;\n",
              "      height: 32px;\n",
              "      padding: 0 0 0 0;\n",
              "      width: 32px;\n",
              "    }\n",
              "\n",
              "    .colab-df-convert:hover {\n",
              "      background-color: #E2EBFA;\n",
              "      box-shadow: 0px 1px 2px rgba(60, 64, 67, 0.3), 0px 1px 3px 1px rgba(60, 64, 67, 0.15);\n",
              "      fill: #174EA6;\n",
              "    }\n",
              "\n",
              "    .colab-df-buttons div {\n",
              "      margin-bottom: 4px;\n",
              "    }\n",
              "\n",
              "    [theme=dark] .colab-df-convert {\n",
              "      background-color: #3B4455;\n",
              "      fill: #D2E3FC;\n",
              "    }\n",
              "\n",
              "    [theme=dark] .colab-df-convert:hover {\n",
              "      background-color: #434B5C;\n",
              "      box-shadow: 0px 1px 3px 1px rgba(0, 0, 0, 0.15);\n",
              "      filter: drop-shadow(0px 1px 2px rgba(0, 0, 0, 0.3));\n",
              "      fill: #FFFFFF;\n",
              "    }\n",
              "  </style>\n",
              "\n",
              "    <script>\n",
              "      const buttonEl =\n",
              "        document.querySelector('#df-fea1c613-82f6-49fc-ac01-249eca10b31f button.colab-df-convert');\n",
              "      buttonEl.style.display =\n",
              "        google.colab.kernel.accessAllowed ? 'block' : 'none';\n",
              "\n",
              "      async function convertToInteractive(key) {\n",
              "        const element = document.querySelector('#df-fea1c613-82f6-49fc-ac01-249eca10b31f');\n",
              "        const dataTable =\n",
              "          await google.colab.kernel.invokeFunction('convertToInteractive',\n",
              "                                                    [key], {});\n",
              "        if (!dataTable) return;\n",
              "\n",
              "        const docLinkHtml = 'Like what you see? Visit the ' +\n",
              "          '<a target=\"_blank\" href=https://colab.research.google.com/notebooks/data_table.ipynb>data table notebook</a>'\n",
              "          + ' to learn more about interactive tables.';\n",
              "        element.innerHTML = '';\n",
              "        dataTable['output_type'] = 'display_data';\n",
              "        await google.colab.output.renderOutput(dataTable, element);\n",
              "        const docLink = document.createElement('div');\n",
              "        docLink.innerHTML = docLinkHtml;\n",
              "        element.appendChild(docLink);\n",
              "      }\n",
              "    </script>\n",
              "  </div>\n",
              "\n",
              "\n",
              "    <div id=\"df-d7875d4f-347c-439e-ab25-cc2bf1127431\">\n",
              "      <button class=\"colab-df-quickchart\" onclick=\"quickchart('df-d7875d4f-347c-439e-ab25-cc2bf1127431')\"\n",
              "                title=\"Suggest charts\"\n",
              "                style=\"display:none;\">\n",
              "\n",
              "<svg xmlns=\"http://www.w3.org/2000/svg\" height=\"24px\"viewBox=\"0 0 24 24\"\n",
              "     width=\"24px\">\n",
              "    <g>\n",
              "        <path d=\"M19 3H5c-1.1 0-2 .9-2 2v14c0 1.1.9 2 2 2h14c1.1 0 2-.9 2-2V5c0-1.1-.9-2-2-2zM9 17H7v-7h2v7zm4 0h-2V7h2v10zm4 0h-2v-4h2v4z\"/>\n",
              "    </g>\n",
              "</svg>\n",
              "      </button>\n",
              "\n",
              "<style>\n",
              "  .colab-df-quickchart {\n",
              "      --bg-color: #E8F0FE;\n",
              "      --fill-color: #1967D2;\n",
              "      --hover-bg-color: #E2EBFA;\n",
              "      --hover-fill-color: #174EA6;\n",
              "      --disabled-fill-color: #AAA;\n",
              "      --disabled-bg-color: #DDD;\n",
              "  }\n",
              "\n",
              "  [theme=dark] .colab-df-quickchart {\n",
              "      --bg-color: #3B4455;\n",
              "      --fill-color: #D2E3FC;\n",
              "      --hover-bg-color: #434B5C;\n",
              "      --hover-fill-color: #FFFFFF;\n",
              "      --disabled-bg-color: #3B4455;\n",
              "      --disabled-fill-color: #666;\n",
              "  }\n",
              "\n",
              "  .colab-df-quickchart {\n",
              "    background-color: var(--bg-color);\n",
              "    border: none;\n",
              "    border-radius: 50%;\n",
              "    cursor: pointer;\n",
              "    display: none;\n",
              "    fill: var(--fill-color);\n",
              "    height: 32px;\n",
              "    padding: 0;\n",
              "    width: 32px;\n",
              "  }\n",
              "\n",
              "  .colab-df-quickchart:hover {\n",
              "    background-color: var(--hover-bg-color);\n",
              "    box-shadow: 0 1px 2px rgba(60, 64, 67, 0.3), 0 1px 3px 1px rgba(60, 64, 67, 0.15);\n",
              "    fill: var(--button-hover-fill-color);\n",
              "  }\n",
              "\n",
              "  .colab-df-quickchart-complete:disabled,\n",
              "  .colab-df-quickchart-complete:disabled:hover {\n",
              "    background-color: var(--disabled-bg-color);\n",
              "    fill: var(--disabled-fill-color);\n",
              "    box-shadow: none;\n",
              "  }\n",
              "\n",
              "  .colab-df-spinner {\n",
              "    border: 2px solid var(--fill-color);\n",
              "    border-color: transparent;\n",
              "    border-bottom-color: var(--fill-color);\n",
              "    animation:\n",
              "      spin 1s steps(1) infinite;\n",
              "  }\n",
              "\n",
              "  @keyframes spin {\n",
              "    0% {\n",
              "      border-color: transparent;\n",
              "      border-bottom-color: var(--fill-color);\n",
              "      border-left-color: var(--fill-color);\n",
              "    }\n",
              "    20% {\n",
              "      border-color: transparent;\n",
              "      border-left-color: var(--fill-color);\n",
              "      border-top-color: var(--fill-color);\n",
              "    }\n",
              "    30% {\n",
              "      border-color: transparent;\n",
              "      border-left-color: var(--fill-color);\n",
              "      border-top-color: var(--fill-color);\n",
              "      border-right-color: var(--fill-color);\n",
              "    }\n",
              "    40% {\n",
              "      border-color: transparent;\n",
              "      border-right-color: var(--fill-color);\n",
              "      border-top-color: var(--fill-color);\n",
              "    }\n",
              "    60% {\n",
              "      border-color: transparent;\n",
              "      border-right-color: var(--fill-color);\n",
              "    }\n",
              "    80% {\n",
              "      border-color: transparent;\n",
              "      border-right-color: var(--fill-color);\n",
              "      border-bottom-color: var(--fill-color);\n",
              "    }\n",
              "    90% {\n",
              "      border-color: transparent;\n",
              "      border-bottom-color: var(--fill-color);\n",
              "    }\n",
              "  }\n",
              "</style>\n",
              "\n",
              "      <script>\n",
              "        async function quickchart(key) {\n",
              "          const quickchartButtonEl =\n",
              "            document.querySelector('#' + key + ' button');\n",
              "          quickchartButtonEl.disabled = true;  // To prevent multiple clicks.\n",
              "          quickchartButtonEl.classList.add('colab-df-spinner');\n",
              "          try {\n",
              "            const charts = await google.colab.kernel.invokeFunction(\n",
              "                'suggestCharts', [key], {});\n",
              "          } catch (error) {\n",
              "            console.error('Error during call to suggestCharts:', error);\n",
              "          }\n",
              "          quickchartButtonEl.classList.remove('colab-df-spinner');\n",
              "          quickchartButtonEl.classList.add('colab-df-quickchart-complete');\n",
              "        }\n",
              "        (() => {\n",
              "          let quickchartButtonEl =\n",
              "            document.querySelector('#df-d7875d4f-347c-439e-ab25-cc2bf1127431 button');\n",
              "          quickchartButtonEl.style.display =\n",
              "            google.colab.kernel.accessAllowed ? 'block' : 'none';\n",
              "        })();\n",
              "      </script>\n",
              "    </div>\n",
              "\n",
              "    </div>\n",
              "  </div>\n"
            ],
            "application/vnd.google.colaboratory.intrinsic+json": {
              "type": "dataframe",
              "summary": "{\n  \"name\": \"print(f\\\"Number of active users sampled: {df['user_id']\",\n  \"rows\": 5,\n  \"fields\": [\n    {\n      \"column\": \"user_id\",\n      \"properties\": {\n        \"dtype\": \"number\",\n        \"std\": 0,\n        \"min\": 8,\n        \"max\": 8,\n        \"num_unique_values\": 1,\n        \"samples\": [\n          8\n        ],\n        \"semantic_type\": \"\",\n        \"description\": \"\"\n      }\n    },\n    {\n      \"column\": \"movie_id\",\n      \"properties\": {\n        \"dtype\": \"number\",\n        \"std\": 7,\n        \"min\": 2,\n        \"max\": 19,\n        \"num_unique_values\": 5,\n        \"samples\": [\n          5\n        ],\n        \"semantic_type\": \"\",\n        \"description\": \"\"\n      }\n    },\n    {\n      \"column\": \"rating\",\n      \"properties\": {\n        \"dtype\": \"number\",\n        \"std\": 0.5700877125495689,\n        \"min\": 2.5,\n        \"max\": 4.0,\n        \"num_unique_values\": 4,\n        \"samples\": [\n          3.0\n        ],\n        \"semantic_type\": \"\",\n        \"description\": \"\"\n      }\n    },\n    {\n      \"column\": \"title\",\n      \"properties\": {\n        \"dtype\": \"string\",\n        \"num_unique_values\": 5,\n        \"samples\": [\n          \"Father of the Bride Part II (1995)\"\n        ],\n        \"semantic_type\": \"\",\n        \"description\": \"\"\n      }\n    },\n    {\n      \"column\": \"genres\",\n      \"properties\": {\n        \"dtype\": \"string\",\n        \"num_unique_values\": 4,\n        \"samples\": [\n          \"Comedy\"\n        ],\n        \"semantic_type\": \"\",\n        \"description\": \"\"\n      }\n    }\n  ]\n}"
            }
          },
          "metadata": {}
        },
        {
          "output_type": "stream",
          "name": "stdout",
          "text": [
            "Number of records after sampling: 3114710\n",
            "Number of active users sampled: 3683\n"
          ]
        }
      ]
    },
    {
      "cell_type": "markdown",
      "source": [
        "Check for missing values"
      ],
      "metadata": {
        "id": "DrsEd-8BTbez"
      }
    },
    {
      "cell_type": "code",
      "source": [
        "print(\"\\nNumber of missing values:\")\n",
        "print(df.isnull().sum())"
      ],
      "metadata": {
        "colab": {
          "base_uri": "https://localhost:8080/"
        },
        "id": "iIG6cJqCTeh1",
        "outputId": "b25045e5-7a00-4c4b-82d6-3212c4f73695"
      },
      "execution_count": 19,
      "outputs": [
        {
          "output_type": "stream",
          "name": "stdout",
          "text": [
            "\n",
            "Number of missing values:\n",
            "user_id     0\n",
            "movie_id    0\n",
            "rating      0\n",
            "title       0\n",
            "genres      0\n",
            "dtype: int64\n"
          ]
        }
      ]
    },
    {
      "cell_type": "markdown",
      "source": [
        "DATA SPLITTING"
      ],
      "metadata": {
        "id": "dxzu8yGWz5Fj"
      }
    },
    {
      "cell_type": "markdown",
      "source": [
        " We split the data into training and test sets."
      ],
      "metadata": {
        "id": "kpNDOdKSTeMS"
      }
    },
    {
      "cell_type": "code",
      "execution_count": 20,
      "metadata": {
        "colab": {
          "base_uri": "https://localhost:8080/"
        },
        "id": "Vpls445gbrHn",
        "outputId": "c092350c-8cc2-4679-e3d3-11c58ec77972"
      },
      "outputs": [
        {
          "output_type": "stream",
          "name": "stdout",
          "text": [
            "\n",
            "Training data size: 2491768\n",
            "Test data size: 622942\n"
          ]
        }
      ],
      "source": [
        "train_df, test_df = train_test_split(df, test_size=0.2, random_state=42)\n",
        "\n",
        "print(f\"\\nTraining data size: {len(train_df)}\")\n",
        "print(f\"Test data size: {len(test_df)}\")"
      ]
    },
    {
      "cell_type": "markdown",
      "source": [
        "## Content Based Filtering"
      ],
      "metadata": {
        "id": "txLI0lGI6JbF"
      }
    },
    {
      "cell_type": "markdown",
      "source": [
        "### Modelling"
      ],
      "metadata": {
        "id": "vM6YPqeU6c1e"
      }
    },
    {
      "cell_type": "markdown",
      "source": [
        "Use 'movie_id' as the index"
      ],
      "metadata": {
        "id": "CGySGSi4UDJc"
      }
    },
    {
      "cell_type": "code",
      "source": [
        "from sklearn.feature_extraction.text import TfidfVectorizer\n",
        "from sklearn.metrics.pairwise import cosine_similarity\n",
        "\n",
        "movies_df = movies.copy().drop_duplicates(subset='movie_id').set_index('movie_id')"
      ],
      "metadata": {
        "id": "DmwWEOc2UInK"
      },
      "execution_count": 21,
      "outputs": []
    },
    {
      "cell_type": "markdown",
      "source": [
        "Replace '|' with a space"
      ],
      "metadata": {
        "id": "9IIMoGMCUNY4"
      }
    },
    {
      "cell_type": "code",
      "source": [
        "movies_df['genres'] = movies_df['genres'].str.replace('|', ' ', regex=False)"
      ],
      "metadata": {
        "id": "wTHX5qWTUSHu"
      },
      "execution_count": 22,
      "outputs": []
    },
    {
      "cell_type": "markdown",
      "source": [
        "Create TF-IDF and Cosine Similarity (logic remains the same)"
      ],
      "metadata": {
        "id": "j_VoawBDUT3T"
      }
    },
    {
      "cell_type": "code",
      "source": [
        "tfidf = TfidfVectorizer(stop_words='english')\n",
        "tfidf_matrix = tfidf.fit_transform(movies_df['genres'])\n",
        "cosine_sim = cosine_similarity(tfidf_matrix, tfidf_matrix)"
      ],
      "metadata": {
        "id": "QlxLSlPLUXK6"
      },
      "execution_count": 23,
      "outputs": []
    },
    {
      "cell_type": "markdown",
      "source": [
        "Create a Series to map movie titles to their index"
      ],
      "metadata": {
        "id": "ilmEnbEIUdKZ"
      }
    },
    {
      "cell_type": "code",
      "source": [
        "indices = pd.Series(movies_df.index, index=movies_df['title'])"
      ],
      "metadata": {
        "id": "FXY_RI9OUhS-"
      },
      "execution_count": 24,
      "outputs": []
    },
    {
      "cell_type": "markdown",
      "source": [
        "Function to get recommendations (content based)"
      ],
      "metadata": {
        "id": "pTqd18nEUkG1"
      }
    },
    {
      "cell_type": "code",
      "execution_count": 25,
      "metadata": {
        "id": "czlbdXQcb2zv"
      },
      "outputs": [],
      "source": [
        "def get_content_based_recommendations(title, N=10):\n",
        "    try:\n",
        "        movie_index = indices[title]\n",
        "        sim_matrix_idx = movies_df.index.get_loc(movie_index)\n",
        "        sim_scores = list(enumerate(cosine_sim[sim_matrix_idx]))\n",
        "        sim_scores = sorted(sim_scores, key=lambda x: x[1], reverse=True)\n",
        "        sim_scores = sim_scores[1:N+1]\n",
        "        movie_indices = [i[0] for i in sim_scores]\n",
        "        return movies_df['title'].iloc[movie_indices]\n",
        "    except KeyError:\n",
        "        return f\"The movie '{title}' was not found.\""
      ]
    },
    {
      "cell_type": "markdown",
      "source": [
        "### Get Recomendations"
      ],
      "metadata": {
        "id": "3mx76qLtfgvH"
      }
    },
    {
      "cell_type": "markdown",
      "source": [
        "Example 1: Action/Superhero Movie"
      ],
      "metadata": {
        "id": "TjI0m2CTfj0F"
      }
    },
    {
      "cell_type": "code",
      "source": [
        "print(\"--- Recommendations for 'Iron Man (2008)' ---\")\n",
        "print(get_content_based_recommendations('Iron Man (2008)', N=5))"
      ],
      "metadata": {
        "colab": {
          "base_uri": "https://localhost:8080/"
        },
        "id": "leL4zd5tfpcI",
        "outputId": "e674155a-9897-40cf-acd7-7547bbfdff62"
      },
      "execution_count": 26,
      "outputs": [
        {
          "output_type": "stream",
          "name": "stdout",
          "text": [
            "--- Recommendations for 'Iron Man (2008)' ---\n",
            "movie_id\n",
            "260     Star Wars: Episode IV - A New Hope (a.k.a. Sta...\n",
            "316                                       Stargate (1994)\n",
            "442                                 Demolition Man (1993)\n",
            "1196    Star Wars: Episode V - The Empire Strikes Back...\n",
            "1210    Star Wars: Episode VI - Return of the Jedi (1983)\n",
            "Name: title, dtype: object\n"
          ]
        }
      ]
    },
    {
      "cell_type": "markdown",
      "source": [
        "Example 2: Romantic Comedy Movie"
      ],
      "metadata": {
        "id": "Vr6t7XHPfs6O"
      }
    },
    {
      "cell_type": "code",
      "source": [
        "print(\"\\n--- Recommendations for 'Boomerang (1992)' ---\")\n",
        "print(get_content_based_recommendations('Boomerang (1992)', N=5))"
      ],
      "metadata": {
        "colab": {
          "base_uri": "https://localhost:8080/"
        },
        "id": "d-AAkcWbfrbl",
        "outputId": "537adade-d920-4f1c-a43e-76a41f11e21d"
      },
      "execution_count": 27,
      "outputs": [
        {
          "output_type": "stream",
          "name": "stdout",
          "text": [
            "\n",
            "--- Recommendations for 'Boomerang (1992)' ---\n",
            "movie_id\n",
            "7                         Sabrina (1995)\n",
            "39                       Clueless (1995)\n",
            "64                  Two if by Sea (1996)\n",
            "68    French Twist (Gazon maudit) (1995)\n",
            "93            Vampire in Brooklyn (1995)\n",
            "Name: title, dtype: object\n"
          ]
        }
      ]
    },
    {
      "cell_type": "markdown",
      "source": [
        "Example 3: Comedy Movie"
      ],
      "metadata": {
        "id": "dnKdMX8mfxLX"
      }
    },
    {
      "cell_type": "code",
      "execution_count": 28,
      "metadata": {
        "colab": {
          "base_uri": "https://localhost:8080/"
        },
        "id": "EHiCC-l1b7l_",
        "outputId": "c4ce0c51-cfa6-4428-ee7c-2fa03ed9035d"
      },
      "outputs": [
        {
          "output_type": "stream",
          "name": "stdout",
          "text": [
            "\n",
            "--- Recommendations for 'Father of the Bride Part II (1995)' ---\n",
            "movie_id\n",
            "19    Ace Ventura: When Nature Calls (1995)\n",
            "38                      It Takes Two (1995)\n",
            "65                          Bio-Dome (1996)\n",
            "69                            Friday (1995)\n",
            "88                       Black Sheep (1996)\n",
            "Name: title, dtype: object\n"
          ]
        }
      ],
      "source": [
        "print(\"\\n--- Recommendations for 'Father of the Bride Part II (1995)' ---\")\n",
        "print(get_content_based_recommendations('Father of the Bride Part II (1995)', N=5))"
      ]
    },
    {
      "cell_type": "markdown",
      "source": [
        "### Strengths and Weaknesses of Content-Based Filtering\n",
        "\n",
        "This approach, which recommends movies based on genre similarity, has clear advantages and disadvantages.\n",
        "\n",
        "**Strengths:**\n",
        "* **User Independence:** The model doesn't need any data about other users. It can produce recommendations for a user with just a single rated movie.\n",
        "* **Recommends Niche Items:** It can recommend obscure movies that have similar genres to a user's liked movies, even if those movies aren't popular among other users.\n",
        "* **Explainable:** The recommendations are easy to understand. We can clearly state, \"We recommended *Star Wars* because you liked *Iron Man*, and both are Action/Adventure/Sci-Fi films.\"\n",
        "\n",
        "**Weaknesses:**\n",
        "* **Limited Novelty (Overspecialization):** The model will never recommend something outside a user's existing interests. A user who only watches comedies will only be recommended more comedies. It struggles to create \"serendipitous\" or surprising discoveries.\n",
        "* **Feature Dependent:** The quality of recommendations is entirely dependent on the quality of the features we use (in this case, only genre). If genres are missing or too broad, the recommendations will be poor. It doesn't capture subtle nuances that users might like."
      ],
      "metadata": {
        "id": "0xKzunafAmSY"
      }
    },
    {
      "cell_type": "markdown",
      "source": [
        "### Evaluation Metrics for content Based Recomendations"
      ],
      "metadata": {
        "id": "rE1d50dXtYd5"
      }
    },
    {
      "cell_type": "markdown",
      "source": [
        "Defines our \"measuring sticks.\" We are creating two functions, precision_at_k and recall_at_k, which will serve as the core of our evaluation.\n",
        "\n",
        "* precision_at_k: This function calculates how precise our recommendations are. It takes the list of movies our model recommends and compares it to the list of movies the user actually liked (the \"ground truth\"). It then answers the question: \"Of the top 'k' movies we recommended, what fraction was actually relevant?\"\n",
        "\n",
        "* recall_at_k: This function calculates how complete our recommendations are. It looks at all the movies the user liked in the ground truth set and determines what fraction of them we successfully found and included in our top 'k' recommendation list.\n",
        "\n",
        "\n",
        "\n",
        "The functions are designed to be robust, returning 0.0 if a calculation isn't possible (e.g., if there are no recommendations or no ground truth items)."
      ],
      "metadata": {
        "id": "AKBTFVTXykrO"
      }
    },
    {
      "cell_type": "code",
      "source": [
        "import numpy as np\n",
        "\n",
        "def precision_at_k(recommended_items, ground_truth_items, k):\n",
        "    if k == 0 or not recommended_items:\n",
        "        return 0.0\n",
        "\n",
        "    top_k = recommended_items[:k]\n",
        "    relevant_count = len(set(top_k) & set(ground_truth_items))\n",
        "\n",
        "    return relevant_count / k\n",
        "\n",
        "def recall_at_k(recommended_items, ground_truth_items, k):\n",
        "    if not ground_truth_items:\n",
        "        return 0.0\n",
        "\n",
        "    top_k = recommended_items[:k]\n",
        "    relevant_count = len(set(top_k) & set(ground_truth_items))\n",
        "\n",
        "    return relevant_count / len(ground_truth_items)"
      ],
      "metadata": {
        "id": "o_b2hcsKlAli"
      },
      "execution_count": 29,
      "outputs": []
    },
    {
      "cell_type": "markdown",
      "source": [
        "Preparing the Data for Evaluation"
      ],
      "metadata": {
        "id": "4XvxCMpbuFuQ"
      }
    },
    {
      "cell_type": "markdown",
      "source": [
        "Before we can loop through users and score our model, we need helper functions to retrieve the necessary data for each user. This cell creates two such functions.\n",
        "\n",
        "1. get_ground_truth(user_id, test_df, min_rating=4.0): This function gets our \"correct answers.\" For any given user_id, it scans the test set (test_df) and returns a list of movies that the user rated highly (in this case, 4.0 stars or more). This list represents the items we hope our model can successfully recommend.\n",
        "\n",
        "2. get_recommendations_for_user(user_id, train_df, N=10): This function gets our \"predicted answers\" from the content-based model. Since our content-based model recommends items similar to a given movie, we simulate a real-world scenario: we find a random movie that the user liked in their training history (train_df) and use it as a \"seed\" to generate N new recommendations. The function then returns the movie IDs of these recommendations."
      ],
      "metadata": {
        "id": "4nYe1dcMyM7a"
      }
    },
    {
      "cell_type": "code",
      "source": [
        "def get_ground_truth(user_id, test_df, min_rating=4.0):\n",
        "    user_data = test_df[(test_df['user_id'] == user_id) & (test_df['rating'] >= min_rating)]\n",
        "    return user_data['movie_id'].tolist()\n",
        "\n",
        "def get_recommendations_for_user(user_id, train_df, N=10):\n",
        "    user_train_data = train_df[train_df['user_id'] == user_id]\n",
        "    if user_train_data.empty:\n",
        "        return []\n",
        "\n",
        "    try:\n",
        "        seed_movie = user_train_data.sample(1).iloc[0]\n",
        "        seed_movie_title = seed_movie['title']\n",
        "    except ValueError:\n",
        "        return []\n",
        "\n",
        "    recommended_titles = get_content_based_recommendations(seed_movie_title, N=N)\n",
        "\n",
        "    if isinstance(recommended_titles, str):\n",
        "        return []\n",
        "\n",
        "    recommended_ids = recommended_titles.index.tolist()\n",
        "\n",
        "    return recommended_ids"
      ],
      "metadata": {
        "id": "r0Z4FjZls8F4"
      },
      "execution_count": 30,
      "outputs": []
    },
    {
      "cell_type": "markdown",
      "source": [
        "Running the Evaluation Loop and Calculating Results"
      ],
      "metadata": {
        "id": "xrCleGkmvAaU"
      }
    },
    {
      "cell_type": "markdown",
      "source": [
        "This final code block brings everything together. It executes the evaluation process:\n",
        "\n",
        "First, we define our settings: k=10 for our metrics and a sample of 50 users from the test set to evaluate.\n",
        "\n",
        "Then, we initiate the main loop. For each user in our sample, the loop will:\n",
        "\n",
        "1. Call get_ground_truth to get the list of movies the user actually liked.\n",
        "2. Call get_recommendations_for_user to get the list of movies our model recommended.\n",
        "3. Check if a ground truth list exists for the user; if not, we skip them since we can't score them.\n",
        "4. Use the precision_at_k and recall_at_k functions from Part 1 to calculate the scores.\n",
        "5. Append these scores to our lists, precision_scores and recall_scores.\n",
        "\n",
        "After the loop completes, we calculate the average of all the scores we collected and print the final, summary result."
      ],
      "metadata": {
        "id": "_Gb04ykOxkFD"
      }
    },
    {
      "cell_type": "code",
      "source": [
        "k = 10\n",
        "users_to_evaluate = test_df['user_id'].unique()\n",
        "sample_users = users_to_evaluate[:50]\n",
        "\n",
        "precision_scores = []\n",
        "recall_scores = []\n",
        "\n",
        "print(f\"--- Evaluating Precision and Recall for {len(sample_users)} users (k={k}) ---\")\n",
        "\n",
        "for user_id in sample_users:\n",
        "    ground_truth = get_ground_truth(user_id, test_df)\n",
        "    recommendations = get_recommendations_for_user(user_id, train_df, N=k)\n",
        "\n",
        "    if not ground_truth:\n",
        "        continue\n",
        "\n",
        "    precision = precision_at_k(recommendations, ground_truth, k)\n",
        "    recall = recall_at_k(recommendations, ground_truth, k)\n",
        "\n",
        "    precision_scores.append(precision)\n",
        "    recall_scores.append(recall)\n",
        "\n",
        "if precision_scores and recall_scores:\n",
        "    avg_precision = np.mean(precision_scores)\n",
        "    avg_recall = np.mean(recall_scores)\n",
        "\n",
        "    print(f\"\\nAverage Precision@{k}: {avg_precision:.4f}\")\n",
        "    print(f\"Average Recall@{k}: {avg_recall:.4f}\")\n",
        "else:\n",
        "    print(\"Could not calculate metrics. This might happen if none of the sample users had liked items in the test set.\")"
      ],
      "metadata": {
        "colab": {
          "base_uri": "https://localhost:8080/"
        },
        "id": "yWZk4qLJvHRC",
        "outputId": "1ddf0c69-37c7-4e57-9e28-80b27c86287e"
      },
      "execution_count": 32,
      "outputs": [
        {
          "output_type": "stream",
          "name": "stdout",
          "text": [
            "--- Evaluating Precision and Recall for 50 users (k=10) ---\n",
            "\n",
            "Average Precision@10: 0.0320\n",
            "Average Recall@10: 0.0042\n"
          ]
        }
      ]
    },
    {
      "cell_type": "markdown",
      "source": [
        "### Analysis of Evaluation Results\n",
        "\n",
        "* **Average Precision@10: 0.0400**\n",
        "* **Average Recall@10: 0.0018**\n",
        "\n",
        "The results for both precision and recall are quite low, which is expected for this simple model.\n",
        "\n",
        "* **A precision of 0.03** means that, on average, less than one movie (0.3) out of the 10 we recommended was actually a movie the user had rated highly in the test set.\n",
        "* **A recall of 0.0042** is very low, indicating that our model only found a tiny fraction of all the movies the user would have liked.\n",
        "\n",
        "**Conclusion:** These metrics demonstrate the limitations of a purely genre-based content model. While it can find similar movies, it is not powerful enough to accurately capture the full range of a user's preferences."
      ],
      "metadata": {
        "id": "nlU1KRCCA2H0"
      }
    },
    {
      "cell_type": "markdown",
      "source": [
        "## Collaborative Filtering (with SVD)"
      ],
      "metadata": {
        "id": "8JJ0T68S71Ts"
      }
    },
    {
      "cell_type": "markdown",
      "source": [
        "Our second approach, Collaborative Filtering, works differently. Instead of looking at movie genres, it looks at the behavior of all users. The core idea is: \"If User A and User B have similar rating patterns, then User A will probably like other movies that User B has liked.\" We will use a powerful matrix factorization technique called **Singular Value Decomposition (SVD)** to uncover these patterns.\n",
        "\n",
        "### Strengths and Weaknesses of SVDBased Collaborative Filtering\n",
        "\n",
        "**Strengths:**\n",
        "* **Finds Surprising Recommendations:** SVD can uncover latent (hidden) features in the data. This means it can recommend a movie that seems unrelated by genre but is often liked by similar users, leading to novel discoveries.\n",
        "* **No Item Features Needed:** The model works purely on the rating matrix. It doesn't need genres, actors, or any other metadata about the movies.\n",
        "\n",
        "**Weaknesses:**\n",
        "* **The \"Cold Start\" Problem:** This is the biggest weakness. The model cannot make recommendations for new users (who have no ratings) or for new movies (that have never been rated).\n",
        "* **Popularity Bias:** The model tends to recommend popular items more frequently because they have more ratings, as we saw in our EDA.\n",
        "* **Computationally Expensive:** SVD on a very large user-item matrix can require significant memory and processing power."
      ],
      "metadata": {
        "id": "R2mbgiBFBF7A"
      }
    },
    {
      "cell_type": "markdown",
      "source": [
        "Create User-Movie Matrix from TRAINING DATA (with new columns)"
      ],
      "metadata": {
        "id": "C7QJlwHOU1_I"
      }
    },
    {
      "cell_type": "code",
      "source": [
        "from scipy.sparse.linalg import svds\n",
        "from sklearn.metrics import mean_squared_error\n",
        "\n",
        "user_movie_matrix_train = train_df.pivot_table(index='user_id', columns='movie_id', values='rating').fillna(0) # <-- Updated\n",
        "R_train = user_movie_matrix_train.values"
      ],
      "metadata": {
        "id": "QxlvLcmGU4EF"
      },
      "execution_count": 33,
      "outputs": []
    },
    {
      "cell_type": "markdown",
      "source": [
        "SVD process"
      ],
      "metadata": {
        "id": "48xnWXSdU8gd"
      }
    },
    {
      "cell_type": "code",
      "source": [
        "R_mean_train = np.mean(R_train, axis=1).reshape(-1, 1)\n",
        "R_demeaned_train = R_train - R_mean_train\n",
        "U, sigma, Vt = svds(R_demeaned_train, k=50)\n",
        "sigma = np.diag(sigma)"
      ],
      "metadata": {
        "id": "zwm1RSXaVGOx"
      },
      "execution_count": 34,
      "outputs": []
    },
    {
      "cell_type": "markdown",
      "source": [
        "Reconstruct the predicted ratings matrix"
      ],
      "metadata": {
        "id": "SPQ4yWNbVDH2"
      }
    },
    {
      "cell_type": "code",
      "execution_count": 35,
      "metadata": {
        "colab": {
          "base_uri": "https://localhost:8080/",
          "height": 305
        },
        "id": "8U7ww7qgecgh",
        "outputId": "9303d5a6-5234-44f1-b8a6-929e229237d7"
      },
      "outputs": [
        {
          "output_type": "stream",
          "name": "stdout",
          "text": [
            "Predicted ratings matrix created successfully from training data.\n"
          ]
        },
        {
          "output_type": "display_data",
          "data": {
            "text/plain": [
              "movie_id     1         2         3         4         5         6      \\\n",
              "user_id                                                                \n",
              "8         2.399167  1.762392  1.205971 -0.194873  0.300089  1.989358   \n",
              "34        2.439023  1.793413  1.136361  0.296702  1.021577  1.887485   \n",
              "65        2.829435  2.120779  0.743335  0.350813  1.152370 -0.655804   \n",
              "96        1.859250  0.477327  0.088477  0.296871  0.247413  1.723836   \n",
              "125       2.755176  0.969590  0.384468 -0.083600  0.335306  2.924136   \n",
              "\n",
              "movie_id     7         8         9         10     ...     65001     65006  \\\n",
              "user_id                                           ...                       \n",
              "8        -0.222690  0.106991  0.711323  1.751156  ... -0.003939  0.004151   \n",
              "34        0.862734  0.454425  0.807328  1.710042  ... -0.013557 -0.011164   \n",
              "65        1.585386  0.360977 -0.114324  0.759438  ...  0.005904  0.010950   \n",
              "96        0.763374  0.021402  0.098127  1.785996  ...  0.014600  0.011198   \n",
              "125       0.314859 -0.270812 -0.112198  1.343304  ... -0.010692  0.006970   \n",
              "\n",
              "movie_id     65011     65025     65027     65037     65088     65091  \\\n",
              "user_id                                                                \n",
              "8         0.002852 -0.017380 -0.023195  0.005348 -0.010965  0.019384   \n",
              "34       -0.009269 -0.004832 -0.004496 -0.002119 -0.003409 -0.009231   \n",
              "65        0.028534 -0.000222 -0.003131  0.021411  0.011521  0.009433   \n",
              "96        0.001448  0.011650  0.011151  0.018617  0.021321  0.005395   \n",
              "125       0.010506  0.009437  0.010454  0.012922  0.020446 -0.004703   \n",
              "\n",
              "movie_id     65130     65133  \n",
              "user_id                       \n",
              "8        -0.002866  0.000308  \n",
              "34       -0.005089 -0.003576  \n",
              "65        0.012464  0.006800  \n",
              "96        0.013192  0.058894  \n",
              "125       0.007455  0.006902  \n",
              "\n",
              "[5 rows x 10589 columns]"
            ],
            "text/html": [
              "\n",
              "  <div id=\"df-1d270404-bf70-49cd-86a3-2ac9a62b06ce\" class=\"colab-df-container\">\n",
              "    <div>\n",
              "<style scoped>\n",
              "    .dataframe tbody tr th:only-of-type {\n",
              "        vertical-align: middle;\n",
              "    }\n",
              "\n",
              "    .dataframe tbody tr th {\n",
              "        vertical-align: top;\n",
              "    }\n",
              "\n",
              "    .dataframe thead th {\n",
              "        text-align: right;\n",
              "    }\n",
              "</style>\n",
              "<table border=\"1\" class=\"dataframe\">\n",
              "  <thead>\n",
              "    <tr style=\"text-align: right;\">\n",
              "      <th>movie_id</th>\n",
              "      <th>1</th>\n",
              "      <th>2</th>\n",
              "      <th>3</th>\n",
              "      <th>4</th>\n",
              "      <th>5</th>\n",
              "      <th>6</th>\n",
              "      <th>7</th>\n",
              "      <th>8</th>\n",
              "      <th>9</th>\n",
              "      <th>10</th>\n",
              "      <th>...</th>\n",
              "      <th>65001</th>\n",
              "      <th>65006</th>\n",
              "      <th>65011</th>\n",
              "      <th>65025</th>\n",
              "      <th>65027</th>\n",
              "      <th>65037</th>\n",
              "      <th>65088</th>\n",
              "      <th>65091</th>\n",
              "      <th>65130</th>\n",
              "      <th>65133</th>\n",
              "    </tr>\n",
              "    <tr>\n",
              "      <th>user_id</th>\n",
              "      <th></th>\n",
              "      <th></th>\n",
              "      <th></th>\n",
              "      <th></th>\n",
              "      <th></th>\n",
              "      <th></th>\n",
              "      <th></th>\n",
              "      <th></th>\n",
              "      <th></th>\n",
              "      <th></th>\n",
              "      <th></th>\n",
              "      <th></th>\n",
              "      <th></th>\n",
              "      <th></th>\n",
              "      <th></th>\n",
              "      <th></th>\n",
              "      <th></th>\n",
              "      <th></th>\n",
              "      <th></th>\n",
              "      <th></th>\n",
              "      <th></th>\n",
              "    </tr>\n",
              "  </thead>\n",
              "  <tbody>\n",
              "    <tr>\n",
              "      <th>8</th>\n",
              "      <td>2.399167</td>\n",
              "      <td>1.762392</td>\n",
              "      <td>1.205971</td>\n",
              "      <td>-0.194873</td>\n",
              "      <td>0.300089</td>\n",
              "      <td>1.989358</td>\n",
              "      <td>-0.222690</td>\n",
              "      <td>0.106991</td>\n",
              "      <td>0.711323</td>\n",
              "      <td>1.751156</td>\n",
              "      <td>...</td>\n",
              "      <td>-0.003939</td>\n",
              "      <td>0.004151</td>\n",
              "      <td>0.002852</td>\n",
              "      <td>-0.017380</td>\n",
              "      <td>-0.023195</td>\n",
              "      <td>0.005348</td>\n",
              "      <td>-0.010965</td>\n",
              "      <td>0.019384</td>\n",
              "      <td>-0.002866</td>\n",
              "      <td>0.000308</td>\n",
              "    </tr>\n",
              "    <tr>\n",
              "      <th>34</th>\n",
              "      <td>2.439023</td>\n",
              "      <td>1.793413</td>\n",
              "      <td>1.136361</td>\n",
              "      <td>0.296702</td>\n",
              "      <td>1.021577</td>\n",
              "      <td>1.887485</td>\n",
              "      <td>0.862734</td>\n",
              "      <td>0.454425</td>\n",
              "      <td>0.807328</td>\n",
              "      <td>1.710042</td>\n",
              "      <td>...</td>\n",
              "      <td>-0.013557</td>\n",
              "      <td>-0.011164</td>\n",
              "      <td>-0.009269</td>\n",
              "      <td>-0.004832</td>\n",
              "      <td>-0.004496</td>\n",
              "      <td>-0.002119</td>\n",
              "      <td>-0.003409</td>\n",
              "      <td>-0.009231</td>\n",
              "      <td>-0.005089</td>\n",
              "      <td>-0.003576</td>\n",
              "    </tr>\n",
              "    <tr>\n",
              "      <th>65</th>\n",
              "      <td>2.829435</td>\n",
              "      <td>2.120779</td>\n",
              "      <td>0.743335</td>\n",
              "      <td>0.350813</td>\n",
              "      <td>1.152370</td>\n",
              "      <td>-0.655804</td>\n",
              "      <td>1.585386</td>\n",
              "      <td>0.360977</td>\n",
              "      <td>-0.114324</td>\n",
              "      <td>0.759438</td>\n",
              "      <td>...</td>\n",
              "      <td>0.005904</td>\n",
              "      <td>0.010950</td>\n",
              "      <td>0.028534</td>\n",
              "      <td>-0.000222</td>\n",
              "      <td>-0.003131</td>\n",
              "      <td>0.021411</td>\n",
              "      <td>0.011521</td>\n",
              "      <td>0.009433</td>\n",
              "      <td>0.012464</td>\n",
              "      <td>0.006800</td>\n",
              "    </tr>\n",
              "    <tr>\n",
              "      <th>96</th>\n",
              "      <td>1.859250</td>\n",
              "      <td>0.477327</td>\n",
              "      <td>0.088477</td>\n",
              "      <td>0.296871</td>\n",
              "      <td>0.247413</td>\n",
              "      <td>1.723836</td>\n",
              "      <td>0.763374</td>\n",
              "      <td>0.021402</td>\n",
              "      <td>0.098127</td>\n",
              "      <td>1.785996</td>\n",
              "      <td>...</td>\n",
              "      <td>0.014600</td>\n",
              "      <td>0.011198</td>\n",
              "      <td>0.001448</td>\n",
              "      <td>0.011650</td>\n",
              "      <td>0.011151</td>\n",
              "      <td>0.018617</td>\n",
              "      <td>0.021321</td>\n",
              "      <td>0.005395</td>\n",
              "      <td>0.013192</td>\n",
              "      <td>0.058894</td>\n",
              "    </tr>\n",
              "    <tr>\n",
              "      <th>125</th>\n",
              "      <td>2.755176</td>\n",
              "      <td>0.969590</td>\n",
              "      <td>0.384468</td>\n",
              "      <td>-0.083600</td>\n",
              "      <td>0.335306</td>\n",
              "      <td>2.924136</td>\n",
              "      <td>0.314859</td>\n",
              "      <td>-0.270812</td>\n",
              "      <td>-0.112198</td>\n",
              "      <td>1.343304</td>\n",
              "      <td>...</td>\n",
              "      <td>-0.010692</td>\n",
              "      <td>0.006970</td>\n",
              "      <td>0.010506</td>\n",
              "      <td>0.009437</td>\n",
              "      <td>0.010454</td>\n",
              "      <td>0.012922</td>\n",
              "      <td>0.020446</td>\n",
              "      <td>-0.004703</td>\n",
              "      <td>0.007455</td>\n",
              "      <td>0.006902</td>\n",
              "    </tr>\n",
              "  </tbody>\n",
              "</table>\n",
              "<p>5 rows × 10589 columns</p>\n",
              "</div>\n",
              "    <div class=\"colab-df-buttons\">\n",
              "\n",
              "  <div class=\"colab-df-container\">\n",
              "    <button class=\"colab-df-convert\" onclick=\"convertToInteractive('df-1d270404-bf70-49cd-86a3-2ac9a62b06ce')\"\n",
              "            title=\"Convert this dataframe to an interactive table.\"\n",
              "            style=\"display:none;\">\n",
              "\n",
              "  <svg xmlns=\"http://www.w3.org/2000/svg\" height=\"24px\" viewBox=\"0 -960 960 960\">\n",
              "    <path d=\"M120-120v-720h720v720H120Zm60-500h600v-160H180v160Zm220 220h160v-160H400v160Zm0 220h160v-160H400v160ZM180-400h160v-160H180v160Zm440 0h160v-160H620v160ZM180-180h160v-160H180v160Zm440 0h160v-160H620v160Z\"/>\n",
              "  </svg>\n",
              "    </button>\n",
              "\n",
              "  <style>\n",
              "    .colab-df-container {\n",
              "      display:flex;\n",
              "      gap: 12px;\n",
              "    }\n",
              "\n",
              "    .colab-df-convert {\n",
              "      background-color: #E8F0FE;\n",
              "      border: none;\n",
              "      border-radius: 50%;\n",
              "      cursor: pointer;\n",
              "      display: none;\n",
              "      fill: #1967D2;\n",
              "      height: 32px;\n",
              "      padding: 0 0 0 0;\n",
              "      width: 32px;\n",
              "    }\n",
              "\n",
              "    .colab-df-convert:hover {\n",
              "      background-color: #E2EBFA;\n",
              "      box-shadow: 0px 1px 2px rgba(60, 64, 67, 0.3), 0px 1px 3px 1px rgba(60, 64, 67, 0.15);\n",
              "      fill: #174EA6;\n",
              "    }\n",
              "\n",
              "    .colab-df-buttons div {\n",
              "      margin-bottom: 4px;\n",
              "    }\n",
              "\n",
              "    [theme=dark] .colab-df-convert {\n",
              "      background-color: #3B4455;\n",
              "      fill: #D2E3FC;\n",
              "    }\n",
              "\n",
              "    [theme=dark] .colab-df-convert:hover {\n",
              "      background-color: #434B5C;\n",
              "      box-shadow: 0px 1px 3px 1px rgba(0, 0, 0, 0.15);\n",
              "      filter: drop-shadow(0px 1px 2px rgba(0, 0, 0, 0.3));\n",
              "      fill: #FFFFFF;\n",
              "    }\n",
              "  </style>\n",
              "\n",
              "    <script>\n",
              "      const buttonEl =\n",
              "        document.querySelector('#df-1d270404-bf70-49cd-86a3-2ac9a62b06ce button.colab-df-convert');\n",
              "      buttonEl.style.display =\n",
              "        google.colab.kernel.accessAllowed ? 'block' : 'none';\n",
              "\n",
              "      async function convertToInteractive(key) {\n",
              "        const element = document.querySelector('#df-1d270404-bf70-49cd-86a3-2ac9a62b06ce');\n",
              "        const dataTable =\n",
              "          await google.colab.kernel.invokeFunction('convertToInteractive',\n",
              "                                                    [key], {});\n",
              "        if (!dataTable) return;\n",
              "\n",
              "        const docLinkHtml = 'Like what you see? Visit the ' +\n",
              "          '<a target=\"_blank\" href=https://colab.research.google.com/notebooks/data_table.ipynb>data table notebook</a>'\n",
              "          + ' to learn more about interactive tables.';\n",
              "        element.innerHTML = '';\n",
              "        dataTable['output_type'] = 'display_data';\n",
              "        await google.colab.output.renderOutput(dataTable, element);\n",
              "        const docLink = document.createElement('div');\n",
              "        docLink.innerHTML = docLinkHtml;\n",
              "        element.appendChild(docLink);\n",
              "      }\n",
              "    </script>\n",
              "  </div>\n",
              "\n",
              "\n",
              "    <div id=\"df-f4b951ef-cda1-40e7-99ef-983066765c20\">\n",
              "      <button class=\"colab-df-quickchart\" onclick=\"quickchart('df-f4b951ef-cda1-40e7-99ef-983066765c20')\"\n",
              "                title=\"Suggest charts\"\n",
              "                style=\"display:none;\">\n",
              "\n",
              "<svg xmlns=\"http://www.w3.org/2000/svg\" height=\"24px\"viewBox=\"0 0 24 24\"\n",
              "     width=\"24px\">\n",
              "    <g>\n",
              "        <path d=\"M19 3H5c-1.1 0-2 .9-2 2v14c0 1.1.9 2 2 2h14c1.1 0 2-.9 2-2V5c0-1.1-.9-2-2-2zM9 17H7v-7h2v7zm4 0h-2V7h2v10zm4 0h-2v-4h2v4z\"/>\n",
              "    </g>\n",
              "</svg>\n",
              "      </button>\n",
              "\n",
              "<style>\n",
              "  .colab-df-quickchart {\n",
              "      --bg-color: #E8F0FE;\n",
              "      --fill-color: #1967D2;\n",
              "      --hover-bg-color: #E2EBFA;\n",
              "      --hover-fill-color: #174EA6;\n",
              "      --disabled-fill-color: #AAA;\n",
              "      --disabled-bg-color: #DDD;\n",
              "  }\n",
              "\n",
              "  [theme=dark] .colab-df-quickchart {\n",
              "      --bg-color: #3B4455;\n",
              "      --fill-color: #D2E3FC;\n",
              "      --hover-bg-color: #434B5C;\n",
              "      --hover-fill-color: #FFFFFF;\n",
              "      --disabled-bg-color: #3B4455;\n",
              "      --disabled-fill-color: #666;\n",
              "  }\n",
              "\n",
              "  .colab-df-quickchart {\n",
              "    background-color: var(--bg-color);\n",
              "    border: none;\n",
              "    border-radius: 50%;\n",
              "    cursor: pointer;\n",
              "    display: none;\n",
              "    fill: var(--fill-color);\n",
              "    height: 32px;\n",
              "    padding: 0;\n",
              "    width: 32px;\n",
              "  }\n",
              "\n",
              "  .colab-df-quickchart:hover {\n",
              "    background-color: var(--hover-bg-color);\n",
              "    box-shadow: 0 1px 2px rgba(60, 64, 67, 0.3), 0 1px 3px 1px rgba(60, 64, 67, 0.15);\n",
              "    fill: var(--button-hover-fill-color);\n",
              "  }\n",
              "\n",
              "  .colab-df-quickchart-complete:disabled,\n",
              "  .colab-df-quickchart-complete:disabled:hover {\n",
              "    background-color: var(--disabled-bg-color);\n",
              "    fill: var(--disabled-fill-color);\n",
              "    box-shadow: none;\n",
              "  }\n",
              "\n",
              "  .colab-df-spinner {\n",
              "    border: 2px solid var(--fill-color);\n",
              "    border-color: transparent;\n",
              "    border-bottom-color: var(--fill-color);\n",
              "    animation:\n",
              "      spin 1s steps(1) infinite;\n",
              "  }\n",
              "\n",
              "  @keyframes spin {\n",
              "    0% {\n",
              "      border-color: transparent;\n",
              "      border-bottom-color: var(--fill-color);\n",
              "      border-left-color: var(--fill-color);\n",
              "    }\n",
              "    20% {\n",
              "      border-color: transparent;\n",
              "      border-left-color: var(--fill-color);\n",
              "      border-top-color: var(--fill-color);\n",
              "    }\n",
              "    30% {\n",
              "      border-color: transparent;\n",
              "      border-left-color: var(--fill-color);\n",
              "      border-top-color: var(--fill-color);\n",
              "      border-right-color: var(--fill-color);\n",
              "    }\n",
              "    40% {\n",
              "      border-color: transparent;\n",
              "      border-right-color: var(--fill-color);\n",
              "      border-top-color: var(--fill-color);\n",
              "    }\n",
              "    60% {\n",
              "      border-color: transparent;\n",
              "      border-right-color: var(--fill-color);\n",
              "    }\n",
              "    80% {\n",
              "      border-color: transparent;\n",
              "      border-right-color: var(--fill-color);\n",
              "      border-bottom-color: var(--fill-color);\n",
              "    }\n",
              "    90% {\n",
              "      border-color: transparent;\n",
              "      border-bottom-color: var(--fill-color);\n",
              "    }\n",
              "  }\n",
              "</style>\n",
              "\n",
              "      <script>\n",
              "        async function quickchart(key) {\n",
              "          const quickchartButtonEl =\n",
              "            document.querySelector('#' + key + ' button');\n",
              "          quickchartButtonEl.disabled = true;  // To prevent multiple clicks.\n",
              "          quickchartButtonEl.classList.add('colab-df-spinner');\n",
              "          try {\n",
              "            const charts = await google.colab.kernel.invokeFunction(\n",
              "                'suggestCharts', [key], {});\n",
              "          } catch (error) {\n",
              "            console.error('Error during call to suggestCharts:', error);\n",
              "          }\n",
              "          quickchartButtonEl.classList.remove('colab-df-spinner');\n",
              "          quickchartButtonEl.classList.add('colab-df-quickchart-complete');\n",
              "        }\n",
              "        (() => {\n",
              "          let quickchartButtonEl =\n",
              "            document.querySelector('#df-f4b951ef-cda1-40e7-99ef-983066765c20 button');\n",
              "          quickchartButtonEl.style.display =\n",
              "            google.colab.kernel.accessAllowed ? 'block' : 'none';\n",
              "        })();\n",
              "      </script>\n",
              "    </div>\n",
              "\n",
              "    </div>\n",
              "  </div>\n"
            ],
            "application/vnd.google.colaboratory.intrinsic+json": {
              "type": "dataframe"
            }
          },
          "metadata": {}
        }
      ],
      "source": [
        "R_predicted = np.dot(np.dot(U, sigma), Vt) + R_mean_train\n",
        "predicted_ratings = pd.DataFrame(R_predicted, index=user_movie_matrix_train.index, columns=user_movie_matrix_train.columns)\n",
        "\n",
        "print(\"Predicted ratings matrix created successfully from training data.\")\n",
        "display(predicted_ratings.head())"
      ]
    },
    {
      "cell_type": "markdown",
      "source": [
        "Get movie_info for mapping movie_id to title"
      ],
      "metadata": {
        "id": "pG1JzAUAgJME"
      }
    },
    {
      "cell_type": "code",
      "source": [
        "movie_info = df[['movie_id', 'title']].drop_duplicates()"
      ],
      "metadata": {
        "id": "73k2dT-lgNeM"
      },
      "execution_count": 36,
      "outputs": []
    },
    {
      "cell_type": "markdown",
      "source": [
        "Recommend movies function using SVD"
      ],
      "metadata": {
        "id": "szw5k0j-geCL"
      }
    },
    {
      "cell_type": "code",
      "source": [
        "def recommend_movies_svd(user_id, num_recommendations=10):\n",
        "    if user_id not in predicted_ratings.index:\n",
        "        return f\"User ID {user_id} not found in the model.\"\n",
        "\n",
        "    user_row = predicted_ratings.loc[user_id].sort_values(ascending=False)\n",
        "\n",
        "    rated_movies = df[df['user_id'] == user_id]['movie_id'].tolist()\n",
        "\n",
        "    recommendations = user_row.drop(rated_movies, errors='ignore').head(num_recommendations)\n",
        "\n",
        "    recs_df = pd.DataFrame(recommendations).reset_index()\n",
        "    recs_df.columns = ['movie_id', 'predicted_rating']\n",
        "    recs_df = pd.merge(recs_df, movie_info, on='movie_id')\n",
        "\n",
        "    return recs_df"
      ],
      "metadata": {
        "id": "KUvk4aDKgdOV"
      },
      "execution_count": 37,
      "outputs": []
    },
    {
      "cell_type": "markdown",
      "source": [
        "Example usage, sample a random user_id from the sampled data"
      ],
      "metadata": {
        "id": "BZbZJ6pcgm2Y"
      }
    },
    {
      "cell_type": "code",
      "execution_count": 38,
      "metadata": {
        "colab": {
          "base_uri": "https://localhost:8080/",
          "height": 399
        },
        "id": "m7lgNVi5iK7S",
        "outputId": "f66ed64d-f391-4461-9a83-f62635a75f11"
      },
      "outputs": [
        {
          "output_type": "stream",
          "name": "stdout",
          "text": [
            "\n",
            "--- Top Movie Recommendations for User ID 32830 ---\n"
          ]
        },
        {
          "output_type": "display_data",
          "data": {
            "text/plain": [
              "   movie_id  predicted_rating                         title\n",
              "0      3448          3.069020  Good Morning, Vietnam (1987)\n",
              "1      2791          2.938787              Airplane! (1980)\n",
              "2      4975          2.854144            Vanilla Sky (2001)\n",
              "3      3552          2.844461             Caddyshack (1980)\n",
              "4      1285          2.748382               Heathers (1989)\n",
              "5      5400          2.693871  Sum of All Fears, The (2002)\n",
              "6      3396          2.693188      Muppet Movie, The (1979)\n",
              "7      1380          2.691832                 Grease (1978)\n",
              "8      1641          2.685996        Full Monty, The (1997)\n",
              "9      1997          2.663612          Exorcist, The (1973)"
            ],
            "text/html": [
              "\n",
              "  <div id=\"df-671397d1-897b-482f-8681-205f27a8b048\" class=\"colab-df-container\">\n",
              "    <div>\n",
              "<style scoped>\n",
              "    .dataframe tbody tr th:only-of-type {\n",
              "        vertical-align: middle;\n",
              "    }\n",
              "\n",
              "    .dataframe tbody tr th {\n",
              "        vertical-align: top;\n",
              "    }\n",
              "\n",
              "    .dataframe thead th {\n",
              "        text-align: right;\n",
              "    }\n",
              "</style>\n",
              "<table border=\"1\" class=\"dataframe\">\n",
              "  <thead>\n",
              "    <tr style=\"text-align: right;\">\n",
              "      <th></th>\n",
              "      <th>movie_id</th>\n",
              "      <th>predicted_rating</th>\n",
              "      <th>title</th>\n",
              "    </tr>\n",
              "  </thead>\n",
              "  <tbody>\n",
              "    <tr>\n",
              "      <th>0</th>\n",
              "      <td>3448</td>\n",
              "      <td>3.069020</td>\n",
              "      <td>Good Morning, Vietnam (1987)</td>\n",
              "    </tr>\n",
              "    <tr>\n",
              "      <th>1</th>\n",
              "      <td>2791</td>\n",
              "      <td>2.938787</td>\n",
              "      <td>Airplane! (1980)</td>\n",
              "    </tr>\n",
              "    <tr>\n",
              "      <th>2</th>\n",
              "      <td>4975</td>\n",
              "      <td>2.854144</td>\n",
              "      <td>Vanilla Sky (2001)</td>\n",
              "    </tr>\n",
              "    <tr>\n",
              "      <th>3</th>\n",
              "      <td>3552</td>\n",
              "      <td>2.844461</td>\n",
              "      <td>Caddyshack (1980)</td>\n",
              "    </tr>\n",
              "    <tr>\n",
              "      <th>4</th>\n",
              "      <td>1285</td>\n",
              "      <td>2.748382</td>\n",
              "      <td>Heathers (1989)</td>\n",
              "    </tr>\n",
              "    <tr>\n",
              "      <th>5</th>\n",
              "      <td>5400</td>\n",
              "      <td>2.693871</td>\n",
              "      <td>Sum of All Fears, The (2002)</td>\n",
              "    </tr>\n",
              "    <tr>\n",
              "      <th>6</th>\n",
              "      <td>3396</td>\n",
              "      <td>2.693188</td>\n",
              "      <td>Muppet Movie, The (1979)</td>\n",
              "    </tr>\n",
              "    <tr>\n",
              "      <th>7</th>\n",
              "      <td>1380</td>\n",
              "      <td>2.691832</td>\n",
              "      <td>Grease (1978)</td>\n",
              "    </tr>\n",
              "    <tr>\n",
              "      <th>8</th>\n",
              "      <td>1641</td>\n",
              "      <td>2.685996</td>\n",
              "      <td>Full Monty, The (1997)</td>\n",
              "    </tr>\n",
              "    <tr>\n",
              "      <th>9</th>\n",
              "      <td>1997</td>\n",
              "      <td>2.663612</td>\n",
              "      <td>Exorcist, The (1973)</td>\n",
              "    </tr>\n",
              "  </tbody>\n",
              "</table>\n",
              "</div>\n",
              "    <div class=\"colab-df-buttons\">\n",
              "\n",
              "  <div class=\"colab-df-container\">\n",
              "    <button class=\"colab-df-convert\" onclick=\"convertToInteractive('df-671397d1-897b-482f-8681-205f27a8b048')\"\n",
              "            title=\"Convert this dataframe to an interactive table.\"\n",
              "            style=\"display:none;\">\n",
              "\n",
              "  <svg xmlns=\"http://www.w3.org/2000/svg\" height=\"24px\" viewBox=\"0 -960 960 960\">\n",
              "    <path d=\"M120-120v-720h720v720H120Zm60-500h600v-160H180v160Zm220 220h160v-160H400v160Zm0 220h160v-160H400v160ZM180-400h160v-160H180v160Zm440 0h160v-160H620v160ZM180-180h160v-160H180v160Zm440 0h160v-160H620v160Z\"/>\n",
              "  </svg>\n",
              "    </button>\n",
              "\n",
              "  <style>\n",
              "    .colab-df-container {\n",
              "      display:flex;\n",
              "      gap: 12px;\n",
              "    }\n",
              "\n",
              "    .colab-df-convert {\n",
              "      background-color: #E8F0FE;\n",
              "      border: none;\n",
              "      border-radius: 50%;\n",
              "      cursor: pointer;\n",
              "      display: none;\n",
              "      fill: #1967D2;\n",
              "      height: 32px;\n",
              "      padding: 0 0 0 0;\n",
              "      width: 32px;\n",
              "    }\n",
              "\n",
              "    .colab-df-convert:hover {\n",
              "      background-color: #E2EBFA;\n",
              "      box-shadow: 0px 1px 2px rgba(60, 64, 67, 0.3), 0px 1px 3px 1px rgba(60, 64, 67, 0.15);\n",
              "      fill: #174EA6;\n",
              "    }\n",
              "\n",
              "    .colab-df-buttons div {\n",
              "      margin-bottom: 4px;\n",
              "    }\n",
              "\n",
              "    [theme=dark] .colab-df-convert {\n",
              "      background-color: #3B4455;\n",
              "      fill: #D2E3FC;\n",
              "    }\n",
              "\n",
              "    [theme=dark] .colab-df-convert:hover {\n",
              "      background-color: #434B5C;\n",
              "      box-shadow: 0px 1px 3px 1px rgba(0, 0, 0, 0.15);\n",
              "      filter: drop-shadow(0px 1px 2px rgba(0, 0, 0, 0.3));\n",
              "      fill: #FFFFFF;\n",
              "    }\n",
              "  </style>\n",
              "\n",
              "    <script>\n",
              "      const buttonEl =\n",
              "        document.querySelector('#df-671397d1-897b-482f-8681-205f27a8b048 button.colab-df-convert');\n",
              "      buttonEl.style.display =\n",
              "        google.colab.kernel.accessAllowed ? 'block' : 'none';\n",
              "\n",
              "      async function convertToInteractive(key) {\n",
              "        const element = document.querySelector('#df-671397d1-897b-482f-8681-205f27a8b048');\n",
              "        const dataTable =\n",
              "          await google.colab.kernel.invokeFunction('convertToInteractive',\n",
              "                                                    [key], {});\n",
              "        if (!dataTable) return;\n",
              "\n",
              "        const docLinkHtml = 'Like what you see? Visit the ' +\n",
              "          '<a target=\"_blank\" href=https://colab.research.google.com/notebooks/data_table.ipynb>data table notebook</a>'\n",
              "          + ' to learn more about interactive tables.';\n",
              "        element.innerHTML = '';\n",
              "        dataTable['output_type'] = 'display_data';\n",
              "        await google.colab.output.renderOutput(dataTable, element);\n",
              "        const docLink = document.createElement('div');\n",
              "        docLink.innerHTML = docLinkHtml;\n",
              "        element.appendChild(docLink);\n",
              "      }\n",
              "    </script>\n",
              "  </div>\n",
              "\n",
              "\n",
              "    <div id=\"df-5ccec21a-6cda-4361-9936-6430df9dded2\">\n",
              "      <button class=\"colab-df-quickchart\" onclick=\"quickchart('df-5ccec21a-6cda-4361-9936-6430df9dded2')\"\n",
              "                title=\"Suggest charts\"\n",
              "                style=\"display:none;\">\n",
              "\n",
              "<svg xmlns=\"http://www.w3.org/2000/svg\" height=\"24px\"viewBox=\"0 0 24 24\"\n",
              "     width=\"24px\">\n",
              "    <g>\n",
              "        <path d=\"M19 3H5c-1.1 0-2 .9-2 2v14c0 1.1.9 2 2 2h14c1.1 0 2-.9 2-2V5c0-1.1-.9-2-2-2zM9 17H7v-7h2v7zm4 0h-2V7h2v10zm4 0h-2v-4h2v4z\"/>\n",
              "    </g>\n",
              "</svg>\n",
              "      </button>\n",
              "\n",
              "<style>\n",
              "  .colab-df-quickchart {\n",
              "      --bg-color: #E8F0FE;\n",
              "      --fill-color: #1967D2;\n",
              "      --hover-bg-color: #E2EBFA;\n",
              "      --hover-fill-color: #174EA6;\n",
              "      --disabled-fill-color: #AAA;\n",
              "      --disabled-bg-color: #DDD;\n",
              "  }\n",
              "\n",
              "  [theme=dark] .colab-df-quickchart {\n",
              "      --bg-color: #3B4455;\n",
              "      --fill-color: #D2E3FC;\n",
              "      --hover-bg-color: #434B5C;\n",
              "      --hover-fill-color: #FFFFFF;\n",
              "      --disabled-bg-color: #3B4455;\n",
              "      --disabled-fill-color: #666;\n",
              "  }\n",
              "\n",
              "  .colab-df-quickchart {\n",
              "    background-color: var(--bg-color);\n",
              "    border: none;\n",
              "    border-radius: 50%;\n",
              "    cursor: pointer;\n",
              "    display: none;\n",
              "    fill: var(--fill-color);\n",
              "    height: 32px;\n",
              "    padding: 0;\n",
              "    width: 32px;\n",
              "  }\n",
              "\n",
              "  .colab-df-quickchart:hover {\n",
              "    background-color: var(--hover-bg-color);\n",
              "    box-shadow: 0 1px 2px rgba(60, 64, 67, 0.3), 0 1px 3px 1px rgba(60, 64, 67, 0.15);\n",
              "    fill: var(--button-hover-fill-color);\n",
              "  }\n",
              "\n",
              "  .colab-df-quickchart-complete:disabled,\n",
              "  .colab-df-quickchart-complete:disabled:hover {\n",
              "    background-color: var(--disabled-bg-color);\n",
              "    fill: var(--disabled-fill-color);\n",
              "    box-shadow: none;\n",
              "  }\n",
              "\n",
              "  .colab-df-spinner {\n",
              "    border: 2px solid var(--fill-color);\n",
              "    border-color: transparent;\n",
              "    border-bottom-color: var(--fill-color);\n",
              "    animation:\n",
              "      spin 1s steps(1) infinite;\n",
              "  }\n",
              "\n",
              "  @keyframes spin {\n",
              "    0% {\n",
              "      border-color: transparent;\n",
              "      border-bottom-color: var(--fill-color);\n",
              "      border-left-color: var(--fill-color);\n",
              "    }\n",
              "    20% {\n",
              "      border-color: transparent;\n",
              "      border-left-color: var(--fill-color);\n",
              "      border-top-color: var(--fill-color);\n",
              "    }\n",
              "    30% {\n",
              "      border-color: transparent;\n",
              "      border-left-color: var(--fill-color);\n",
              "      border-top-color: var(--fill-color);\n",
              "      border-right-color: var(--fill-color);\n",
              "    }\n",
              "    40% {\n",
              "      border-color: transparent;\n",
              "      border-right-color: var(--fill-color);\n",
              "      border-top-color: var(--fill-color);\n",
              "    }\n",
              "    60% {\n",
              "      border-color: transparent;\n",
              "      border-right-color: var(--fill-color);\n",
              "    }\n",
              "    80% {\n",
              "      border-color: transparent;\n",
              "      border-right-color: var(--fill-color);\n",
              "      border-bottom-color: var(--fill-color);\n",
              "    }\n",
              "    90% {\n",
              "      border-color: transparent;\n",
              "      border-bottom-color: var(--fill-color);\n",
              "    }\n",
              "  }\n",
              "</style>\n",
              "\n",
              "      <script>\n",
              "        async function quickchart(key) {\n",
              "          const quickchartButtonEl =\n",
              "            document.querySelector('#' + key + ' button');\n",
              "          quickchartButtonEl.disabled = true;  // To prevent multiple clicks.\n",
              "          quickchartButtonEl.classList.add('colab-df-spinner');\n",
              "          try {\n",
              "            const charts = await google.colab.kernel.invokeFunction(\n",
              "                'suggestCharts', [key], {});\n",
              "          } catch (error) {\n",
              "            console.error('Error during call to suggestCharts:', error);\n",
              "          }\n",
              "          quickchartButtonEl.classList.remove('colab-df-spinner');\n",
              "          quickchartButtonEl.classList.add('colab-df-quickchart-complete');\n",
              "        }\n",
              "        (() => {\n",
              "          let quickchartButtonEl =\n",
              "            document.querySelector('#df-5ccec21a-6cda-4361-9936-6430df9dded2 button');\n",
              "          quickchartButtonEl.style.display =\n",
              "            google.colab.kernel.accessAllowed ? 'block' : 'none';\n",
              "        })();\n",
              "      </script>\n",
              "    </div>\n",
              "\n",
              "  <div id=\"id_90a93e41-dd1d-4206-95b3-2690552fb6a2\">\n",
              "    <style>\n",
              "      .colab-df-generate {\n",
              "        background-color: #E8F0FE;\n",
              "        border: none;\n",
              "        border-radius: 50%;\n",
              "        cursor: pointer;\n",
              "        display: none;\n",
              "        fill: #1967D2;\n",
              "        height: 32px;\n",
              "        padding: 0 0 0 0;\n",
              "        width: 32px;\n",
              "      }\n",
              "\n",
              "      .colab-df-generate:hover {\n",
              "        background-color: #E2EBFA;\n",
              "        box-shadow: 0px 1px 2px rgba(60, 64, 67, 0.3), 0px 1px 3px 1px rgba(60, 64, 67, 0.15);\n",
              "        fill: #174EA6;\n",
              "      }\n",
              "\n",
              "      [theme=dark] .colab-df-generate {\n",
              "        background-color: #3B4455;\n",
              "        fill: #D2E3FC;\n",
              "      }\n",
              "\n",
              "      [theme=dark] .colab-df-generate:hover {\n",
              "        background-color: #434B5C;\n",
              "        box-shadow: 0px 1px 3px 1px rgba(0, 0, 0, 0.15);\n",
              "        filter: drop-shadow(0px 1px 2px rgba(0, 0, 0, 0.3));\n",
              "        fill: #FFFFFF;\n",
              "      }\n",
              "    </style>\n",
              "    <button class=\"colab-df-generate\" onclick=\"generateWithVariable('final_recommendations')\"\n",
              "            title=\"Generate code using this dataframe.\"\n",
              "            style=\"display:none;\">\n",
              "\n",
              "  <svg xmlns=\"http://www.w3.org/2000/svg\" height=\"24px\"viewBox=\"0 0 24 24\"\n",
              "       width=\"24px\">\n",
              "    <path d=\"M7,19H8.4L18.45,9,17,7.55,7,17.6ZM5,21V16.75L18.45,3.32a2,2,0,0,1,2.83,0l1.4,1.43a1.91,1.91,0,0,1,.58,1.4,1.91,1.91,0,0,1-.58,1.4L9.25,21ZM18.45,9,17,7.55Zm-12,3A5.31,5.31,0,0,0,4.9,8.1,5.31,5.31,0,0,0,1,6.5,5.31,5.31,0,0,0,4.9,4.9,5.31,5.31,0,0,0,6.5,1,5.31,5.31,0,0,0,8.1,4.9,5.31,5.31,0,0,0,12,6.5,5.46,5.46,0,0,0,6.5,12Z\"/>\n",
              "  </svg>\n",
              "    </button>\n",
              "    <script>\n",
              "      (() => {\n",
              "      const buttonEl =\n",
              "        document.querySelector('#id_90a93e41-dd1d-4206-95b3-2690552fb6a2 button.colab-df-generate');\n",
              "      buttonEl.style.display =\n",
              "        google.colab.kernel.accessAllowed ? 'block' : 'none';\n",
              "\n",
              "      buttonEl.onclick = () => {\n",
              "        google.colab.notebook.generateWithVariable('final_recommendations');\n",
              "      }\n",
              "      })();\n",
              "    </script>\n",
              "  </div>\n",
              "\n",
              "    </div>\n",
              "  </div>\n"
            ],
            "application/vnd.google.colaboratory.intrinsic+json": {
              "type": "dataframe",
              "variable_name": "final_recommendations",
              "summary": "{\n  \"name\": \"final_recommendations\",\n  \"rows\": 10,\n  \"fields\": [\n    {\n      \"column\": \"movie_id\",\n      \"properties\": {\n        \"dtype\": \"number\",\n        \"std\": 1444,\n        \"min\": 1285,\n        \"max\": 5400,\n        \"num_unique_values\": 10,\n        \"samples\": [\n          1641,\n          2791,\n          5400\n        ],\n        \"semantic_type\": \"\",\n        \"description\": \"\"\n      }\n    },\n    {\n      \"column\": \"predicted_rating\",\n      \"properties\": {\n        \"dtype\": \"number\",\n        \"std\": 0.1349137432610623,\n        \"min\": 2.6636117317771553,\n        \"max\": 3.069020101709518,\n        \"num_unique_values\": 10,\n        \"samples\": [\n          2.6859955158495703,\n          2.938786745752126,\n          2.69387119904021\n        ],\n        \"semantic_type\": \"\",\n        \"description\": \"\"\n      }\n    },\n    {\n      \"column\": \"title\",\n      \"properties\": {\n        \"dtype\": \"string\",\n        \"num_unique_values\": 10,\n        \"samples\": [\n          \"Full Monty, The (1997)\",\n          \"Airplane! (1980)\",\n          \"Sum of All Fears, The (2002)\"\n        ],\n        \"semantic_type\": \"\",\n        \"description\": \"\"\n      }\n    }\n  ]\n}"
            }
          },
          "metadata": {}
        }
      ],
      "source": [
        "USER_ID_TARGET = df['user_id'].sample(1).iloc[0]\n",
        "print(f\"\\n--- Top Movie Recommendations for User ID {USER_ID_TARGET} ---\")\n",
        "final_recommendations = recommend_movies_svd(USER_ID_TARGET)\n",
        "display(final_recommendations)"
      ]
    },
    {
      "cell_type": "markdown",
      "source": [
        "### Quantitative Evaluation of SVD with RMSE"
      ],
      "metadata": {
        "id": "v3x7X8JVVUDn"
      }
    },
    {
      "cell_type": "markdown",
      "source": [
        "Loop through each row in the test data (with new columns)"
      ],
      "metadata": {
        "id": "3PP9Q9xVVcHF"
      }
    },
    {
      "cell_type": "code",
      "source": [
        "actuals = []\n",
        "predictions = []\n",
        "\n",
        "for _, row in test_df.iterrows():\n",
        "    user_id = row['user_id']\n",
        "    movie_id = row['movie_id']\n",
        "    actual_rating = row['rating']\n",
        "\n",
        "    if user_id in predicted_ratings.index and movie_id in predicted_ratings.columns:\n",
        "        predicted_rating = predicted_ratings.loc[user_id, movie_id]\n",
        "        actuals.append(actual_rating)\n",
        "        predictions.append(predicted_rating)"
      ],
      "metadata": {
        "id": "-qJ3AnY5VeCj"
      },
      "execution_count": 39,
      "outputs": []
    },
    {
      "cell_type": "markdown",
      "source": [
        "Calculate RMSE"
      ],
      "metadata": {
        "id": "JlBPrueyVijo"
      }
    },
    {
      "cell_type": "code",
      "execution_count": 40,
      "metadata": {
        "colab": {
          "base_uri": "https://localhost:8080/"
        },
        "id": "MmCA_j6qh2xN",
        "outputId": "571bc369-1d9d-4709-acb3-cbd6b37adf2f"
      },
      "outputs": [
        {
          "output_type": "stream",
          "name": "stdout",
          "text": [
            "\n",
            "==============================================\n",
            "SVD Model Evaluation Results\n",
            "RMSE on Test Data: 2.2440\n",
            "==============================================\n"
          ]
        }
      ],
      "source": [
        "if len(actuals) > 0:\n",
        "    rmse = np.sqrt(mean_squared_error(actuals, predictions))\n",
        "    print(f\"\\n==============================================\")\n",
        "    print(f\"SVD Model Evaluation Results\")\n",
        "    print(f\"RMSE on Test Data: {rmse:.4f}\")\n",
        "    print(f\"==============================================\")\n",
        "else:\n",
        "    print(\"No test data could be evaluated (perhaps users/movies in test set were not in training set).\")"
      ]
    },
    {
      "cell_type": "markdown",
      "source": [
        "### Analysis of SVD Evaluation (RMSE)\n",
        "\n",
        "**RMSE on Test Data: 2.2440**\n",
        "\n",
        "The Root Mean Squared Error (RMSE) measures the average magnitude of the error between our model's predicted ratings and the users' actual ratings.\n",
        "\n",
        "An RMSE of **2.24** on a rating scale of 1 to 5 is very high. It indicates that, on average, our model's rating predictions are off by more than 2 stars. For example, if a user rated a movie 4 stars, our model might predict a rating of 1.76 or something similarly far off.\n",
        "\n",
        "**Conclusion:** While this SVD model can generate a ranked list of interesting recommendations, it is not accurate at predicting the *exact rating* a user would give. This suggests its strength is in identifying movies a user *might like*, rather than forecasting the specific score."
      ],
      "metadata": {
        "id": "9NmHkUueBpku"
      }
    }
  ],
  "metadata": {
    "accelerator": "TPU",
    "colab": {
      "gpuType": "V28",
      "provenance": []
    },
    "kernelspec": {
      "display_name": "Python 3",
      "name": "python3"
    },
    "language_info": {
      "name": "python"
    }
  },
  "nbformat": 4,
  "nbformat_minor": 0
}